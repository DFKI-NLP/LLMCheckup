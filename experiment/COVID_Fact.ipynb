{
  "nbformat": 4,
  "nbformat_minor": 0,
  "metadata": {
    "colab": {
      "provenance": [],
      "gpuType": "T4"
    },
    "kernelspec": {
      "name": "python3",
      "display_name": "Python 3"
    },
    "language_info": {
      "name": "python"
    },
    "accelerator": "GPU"
  },
  "cells": [
    {
      "cell_type": "code",
      "source": [
        "!pip install git+https://github.com/inseq-team/inseq.git"
      ],
      "metadata": {
        "colab": {
          "base_uri": "https://localhost:8080/"
        },
        "id": "QlIIo0QrLpsx",
        "outputId": "d8436582-66c4-451b-c328-92302276c59b"
      },
      "execution_count": 1,
      "outputs": [
        {
          "output_type": "stream",
          "name": "stdout",
          "text": [
            "Collecting git+https://github.com/inseq-team/inseq.git\n",
            "  Cloning https://github.com/inseq-team/inseq.git to /tmp/pip-req-build-e78nup45\n",
            "  Running command git clone --filter=blob:none --quiet https://github.com/inseq-team/inseq.git /tmp/pip-req-build-e78nup45\n",
            "  Resolved https://github.com/inseq-team/inseq.git to commit a1bb88169a6da996ac0249f2bea3c0a7eba68528\n",
            "  Installing build dependencies ... \u001b[?25l\u001b[?25hdone\n",
            "  Getting requirements to build wheel ... \u001b[?25l\u001b[?25hdone\n",
            "  Preparing metadata (pyproject.toml) ... \u001b[?25l\u001b[?25hdone\n",
            "Requirement already satisfied: captum<0.7.0,>=0.6.0 in /usr/local/lib/python3.10/dist-packages (from inseq==0.5.0.dev0) (0.6.0)\n",
            "Requirement already satisfied: matplotlib<3.6.0,>=3.5.3 in /usr/local/lib/python3.10/dist-packages (from inseq==0.5.0.dev0) (3.5.3)\n",
            "Requirement already satisfied: numpy<2.0.0,>=1.21.6 in /usr/local/lib/python3.10/dist-packages (from inseq==0.5.0.dev0) (1.23.5)\n",
            "Requirement already satisfied: nvidia-cublas-cu11==11.10.3.66 in /usr/local/lib/python3.10/dist-packages (from inseq==0.5.0.dev0) (11.10.3.66)\n",
            "Collecting nvidia-cuda-cupti-cu11==11.7.101 (from inseq==0.5.0.dev0)\n",
            "  Downloading nvidia_cuda_cupti_cu11-11.7.101-py3-none-manylinux1_x86_64.whl (11.8 MB)\n",
            "\u001b[2K     \u001b[90m━━━━━━━━━━━━━━━━━━━━━━━━━━━━━━━━━━━━━━━━\u001b[0m \u001b[32m11.8/11.8 MB\u001b[0m \u001b[31m30.9 MB/s\u001b[0m eta \u001b[36m0:00:00\u001b[0m\n",
            "\u001b[?25hRequirement already satisfied: nvidia-cuda-nvrtc-cu11==11.7.99 in /usr/local/lib/python3.10/dist-packages (from inseq==0.5.0.dev0) (11.7.99)\n",
            "Requirement already satisfied: nvidia-cuda-runtime-cu11==11.7.99 in /usr/local/lib/python3.10/dist-packages (from inseq==0.5.0.dev0) (11.7.99)\n",
            "Requirement already satisfied: nvidia-cudnn-cu11==8.5.0.96 in /usr/local/lib/python3.10/dist-packages (from inseq==0.5.0.dev0) (8.5.0.96)\n",
            "Collecting nvidia-cufft-cu11==10.9.0.58 (from inseq==0.5.0.dev0)\n",
            "  Downloading nvidia_cufft_cu11-10.9.0.58-py3-none-manylinux1_x86_64.whl (168.4 MB)\n",
            "\u001b[2K     \u001b[90m━━━━━━━━━━━━━━━━━━━━━━━━━━━━━━━━━━━━━━━━\u001b[0m \u001b[32m168.4/168.4 MB\u001b[0m \u001b[31m2.4 MB/s\u001b[0m eta \u001b[36m0:00:00\u001b[0m\n",
            "\u001b[?25hCollecting nvidia-curand-cu11==10.2.10.91 (from inseq==0.5.0.dev0)\n",
            "  Downloading nvidia_curand_cu11-10.2.10.91-py3-none-manylinux1_x86_64.whl (54.6 MB)\n",
            "\u001b[2K     \u001b[90m━━━━━━━━━━━━━━━━━━━━━━━━━━━━━━━━━━━━━━━━\u001b[0m \u001b[32m54.6/54.6 MB\u001b[0m \u001b[31m10.7 MB/s\u001b[0m eta \u001b[36m0:00:00\u001b[0m\n",
            "\u001b[?25hCollecting nvidia-cusolver-cu11==11.4.0.1 (from inseq==0.5.0.dev0)\n",
            "  Downloading nvidia_cusolver_cu11-11.4.0.1-2-py3-none-manylinux1_x86_64.whl (102.6 MB)\n",
            "\u001b[2K     \u001b[90m━━━━━━━━━━━━━━━━━━━━━━━━━━━━━━━━━━━━━━━━\u001b[0m \u001b[32m102.6/102.6 MB\u001b[0m \u001b[31m8.9 MB/s\u001b[0m eta \u001b[36m0:00:00\u001b[0m\n",
            "\u001b[?25hCollecting nvidia-cusparse-cu11==11.7.4.91 (from inseq==0.5.0.dev0)\n",
            "  Downloading nvidia_cusparse_cu11-11.7.4.91-py3-none-manylinux1_x86_64.whl (173.2 MB)\n",
            "\u001b[2K     \u001b[90m━━━━━━━━━━━━━━━━━━━━━━━━━━━━━━━━━━━━━━━━\u001b[0m \u001b[32m173.2/173.2 MB\u001b[0m \u001b[31m6.4 MB/s\u001b[0m eta \u001b[36m0:00:00\u001b[0m\n",
            "\u001b[?25hCollecting nvidia-nccl-cu11==2.14.3 (from inseq==0.5.0.dev0)\n",
            "  Downloading nvidia_nccl_cu11-2.14.3-py3-none-manylinux1_x86_64.whl (177.1 MB)\n",
            "\u001b[2K     \u001b[90m━━━━━━━━━━━━━━━━━━━━━━━━━━━━━━━━━━━━━━━━\u001b[0m \u001b[32m177.1/177.1 MB\u001b[0m \u001b[31m6.7 MB/s\u001b[0m eta \u001b[36m0:00:00\u001b[0m\n",
            "\u001b[?25hCollecting nvidia-nvtx-cu11==11.7.91 (from inseq==0.5.0.dev0)\n",
            "  Downloading nvidia_nvtx_cu11-11.7.91-py3-none-manylinux1_x86_64.whl (98 kB)\n",
            "\u001b[2K     \u001b[90m━━━━━━━━━━━━━━━━━━━━━━━━━━━━━━━━━━━━━━━━\u001b[0m \u001b[32m98.6/98.6 kB\u001b[0m \u001b[31m7.7 MB/s\u001b[0m eta \u001b[36m0:00:00\u001b[0m\n",
            "\u001b[?25hRequirement already satisfied: poethepoet<0.14.0,>=0.13.1 in /usr/local/lib/python3.10/dist-packages (from inseq==0.5.0.dev0) (0.13.1)\n",
            "Requirement already satisfied: protobuf<4.0.0,>=3.20.1 in /usr/local/lib/python3.10/dist-packages (from inseq==0.5.0.dev0) (3.20.3)\n",
            "Requirement already satisfied: rich<11.0.0,>=10.13.0 in /usr/local/lib/python3.10/dist-packages (from inseq==0.5.0.dev0) (10.16.2)\n",
            "Requirement already satisfied: scipy<2.0.0,>=1.8.1 in /usr/local/lib/python3.10/dist-packages (from inseq==0.5.0.dev0) (1.11.3)\n",
            "Collecting torch<3.0.0,>=2.0.0 (from inseq==0.5.0.dev0)\n",
            "  Downloading torch-2.1.0-cp310-cp310-manylinux1_x86_64.whl (670.2 MB)\n",
            "\u001b[2K     \u001b[90m━━━━━━━━━━━━━━━━━━━━━━━━━━━━━━━━━━━━━━━━\u001b[0m \u001b[32m670.2/670.2 MB\u001b[0m \u001b[31m2.2 MB/s\u001b[0m eta \u001b[36m0:00:00\u001b[0m\n",
            "\u001b[?25hRequirement already satisfied: torchtyping<0.2.0,>=0.1.4 in /usr/local/lib/python3.10/dist-packages (from inseq==0.5.0.dev0) (0.1.4)\n",
            "Requirement already satisfied: tqdm<5.0.0,>=4.64.0 in /usr/local/lib/python3.10/dist-packages (from inseq==0.5.0.dev0) (4.66.1)\n",
            "Requirement already satisfied: transformers[sentencepiece,tokenizers,torch]>=4.22.0 in /usr/local/lib/python3.10/dist-packages (from inseq==0.5.0.dev0) (4.34.1)\n",
            "Collecting typeguard<=2.13.3 (from inseq==0.5.0.dev0)\n",
            "  Downloading typeguard-2.13.3-py3-none-any.whl (17 kB)\n",
            "Requirement already satisfied: setuptools in /usr/local/lib/python3.10/dist-packages (from nvidia-cublas-cu11==11.10.3.66->inseq==0.5.0.dev0) (67.7.2)\n",
            "Requirement already satisfied: wheel in /usr/local/lib/python3.10/dist-packages (from nvidia-cublas-cu11==11.10.3.66->inseq==0.5.0.dev0) (0.41.2)\n",
            "Requirement already satisfied: cycler>=0.10 in /usr/local/lib/python3.10/dist-packages (from matplotlib<3.6.0,>=3.5.3->inseq==0.5.0.dev0) (0.12.1)\n",
            "Requirement already satisfied: fonttools>=4.22.0 in /usr/local/lib/python3.10/dist-packages (from matplotlib<3.6.0,>=3.5.3->inseq==0.5.0.dev0) (4.43.1)\n",
            "Requirement already satisfied: kiwisolver>=1.0.1 in /usr/local/lib/python3.10/dist-packages (from matplotlib<3.6.0,>=3.5.3->inseq==0.5.0.dev0) (1.4.5)\n",
            "Requirement already satisfied: packaging>=20.0 in /usr/local/lib/python3.10/dist-packages (from matplotlib<3.6.0,>=3.5.3->inseq==0.5.0.dev0) (23.2)\n",
            "Requirement already satisfied: pillow>=6.2.0 in /usr/local/lib/python3.10/dist-packages (from matplotlib<3.6.0,>=3.5.3->inseq==0.5.0.dev0) (9.4.0)\n",
            "Requirement already satisfied: pyparsing>=2.2.1 in /usr/local/lib/python3.10/dist-packages (from matplotlib<3.6.0,>=3.5.3->inseq==0.5.0.dev0) (3.1.1)\n",
            "Requirement already satisfied: python-dateutil>=2.7 in /usr/local/lib/python3.10/dist-packages (from matplotlib<3.6.0,>=3.5.3->inseq==0.5.0.dev0) (2.8.2)\n",
            "Requirement already satisfied: pastel<0.3.0,>=0.2.1 in /usr/local/lib/python3.10/dist-packages (from poethepoet<0.14.0,>=0.13.1->inseq==0.5.0.dev0) (0.2.1)\n",
            "Requirement already satisfied: tomli>=1.2.2 in /usr/local/lib/python3.10/dist-packages (from poethepoet<0.14.0,>=0.13.1->inseq==0.5.0.dev0) (2.0.1)\n",
            "Requirement already satisfied: colorama<0.5.0,>=0.4.0 in /usr/local/lib/python3.10/dist-packages (from rich<11.0.0,>=10.13.0->inseq==0.5.0.dev0) (0.4.6)\n",
            "Requirement already satisfied: commonmark<0.10.0,>=0.9.0 in /usr/local/lib/python3.10/dist-packages (from rich<11.0.0,>=10.13.0->inseq==0.5.0.dev0) (0.9.1)\n",
            "Requirement already satisfied: pygments<3.0.0,>=2.6.0 in /usr/local/lib/python3.10/dist-packages (from rich<11.0.0,>=10.13.0->inseq==0.5.0.dev0) (2.16.1)\n",
            "Requirement already satisfied: filelock in /usr/local/lib/python3.10/dist-packages (from torch<3.0.0,>=2.0.0->inseq==0.5.0.dev0) (3.12.4)\n",
            "Requirement already satisfied: typing-extensions in /usr/local/lib/python3.10/dist-packages (from torch<3.0.0,>=2.0.0->inseq==0.5.0.dev0) (4.8.0)\n",
            "Requirement already satisfied: sympy in /usr/local/lib/python3.10/dist-packages (from torch<3.0.0,>=2.0.0->inseq==0.5.0.dev0) (1.12)\n",
            "Requirement already satisfied: networkx in /usr/local/lib/python3.10/dist-packages (from torch<3.0.0,>=2.0.0->inseq==0.5.0.dev0) (3.1)\n",
            "Requirement already satisfied: jinja2 in /usr/local/lib/python3.10/dist-packages (from torch<3.0.0,>=2.0.0->inseq==0.5.0.dev0) (3.1.2)\n",
            "Requirement already satisfied: fsspec in /usr/local/lib/python3.10/dist-packages (from torch<3.0.0,>=2.0.0->inseq==0.5.0.dev0) (2023.6.0)\n",
            "Collecting nvidia-cuda-nvrtc-cu12==12.1.105 (from torch<3.0.0,>=2.0.0->inseq==0.5.0.dev0)\n",
            "  Downloading nvidia_cuda_nvrtc_cu12-12.1.105-py3-none-manylinux1_x86_64.whl (23.7 MB)\n",
            "\u001b[2K     \u001b[90m━━━━━━━━━━━━━━━━━━━━━━━━━━━━━━━━━━━━━━━━\u001b[0m \u001b[32m23.7/23.7 MB\u001b[0m \u001b[31m73.5 MB/s\u001b[0m eta \u001b[36m0:00:00\u001b[0m\n",
            "\u001b[?25hCollecting nvidia-cuda-runtime-cu12==12.1.105 (from torch<3.0.0,>=2.0.0->inseq==0.5.0.dev0)\n",
            "  Downloading nvidia_cuda_runtime_cu12-12.1.105-py3-none-manylinux1_x86_64.whl (823 kB)\n",
            "\u001b[2K     \u001b[90m━━━━━━━━━━━━━━━━━━━━━━━━━━━━━━━━━━━━━━━━\u001b[0m \u001b[32m823.6/823.6 kB\u001b[0m \u001b[31m70.2 MB/s\u001b[0m eta \u001b[36m0:00:00\u001b[0m\n",
            "\u001b[?25hCollecting nvidia-cuda-cupti-cu12==12.1.105 (from torch<3.0.0,>=2.0.0->inseq==0.5.0.dev0)\n",
            "  Downloading nvidia_cuda_cupti_cu12-12.1.105-py3-none-manylinux1_x86_64.whl (14.1 MB)\n",
            "\u001b[2K     \u001b[90m━━━━━━━━━━━━━━━━━━━━━━━━━━━━━━━━━━━━━━━━\u001b[0m \u001b[32m14.1/14.1 MB\u001b[0m \u001b[31m93.1 MB/s\u001b[0m eta \u001b[36m0:00:00\u001b[0m\n",
            "\u001b[?25hCollecting nvidia-cudnn-cu12==8.9.2.26 (from torch<3.0.0,>=2.0.0->inseq==0.5.0.dev0)\n",
            "  Downloading nvidia_cudnn_cu12-8.9.2.26-py3-none-manylinux1_x86_64.whl (731.7 MB)\n",
            "\u001b[2K     \u001b[90m━━━━━━━━━━━━━━━━━━━━━━━━━━━━━━━━━━━━━━━━\u001b[0m \u001b[32m731.7/731.7 MB\u001b[0m \u001b[31m2.1 MB/s\u001b[0m eta \u001b[36m0:00:00\u001b[0m\n",
            "\u001b[?25hCollecting nvidia-cublas-cu12==12.1.3.1 (from torch<3.0.0,>=2.0.0->inseq==0.5.0.dev0)\n",
            "  Downloading nvidia_cublas_cu12-12.1.3.1-py3-none-manylinux1_x86_64.whl (410.6 MB)\n",
            "\u001b[2K     \u001b[90m━━━━━━━━━━━━━━━━━━━━━━━━━━━━━━━━━━━━━━━━\u001b[0m \u001b[32m410.6/410.6 MB\u001b[0m \u001b[31m3.8 MB/s\u001b[0m eta \u001b[36m0:00:00\u001b[0m\n",
            "\u001b[?25hCollecting nvidia-cufft-cu12==11.0.2.54 (from torch<3.0.0,>=2.0.0->inseq==0.5.0.dev0)\n",
            "  Downloading nvidia_cufft_cu12-11.0.2.54-py3-none-manylinux1_x86_64.whl (121.6 MB)\n",
            "\u001b[2K     \u001b[90m━━━━━━━━━━━━━━━━━━━━━━━━━━━━━━━━━━━━━━━━\u001b[0m \u001b[32m121.6/121.6 MB\u001b[0m \u001b[31m8.3 MB/s\u001b[0m eta \u001b[36m0:00:00\u001b[0m\n",
            "\u001b[?25hCollecting nvidia-curand-cu12==10.3.2.106 (from torch<3.0.0,>=2.0.0->inseq==0.5.0.dev0)\n",
            "  Downloading nvidia_curand_cu12-10.3.2.106-py3-none-manylinux1_x86_64.whl (56.5 MB)\n",
            "\u001b[2K     \u001b[90m━━━━━━━━━━━━━━━━━━━━━━━━━━━━━━━━━━━━━━━━\u001b[0m \u001b[32m56.5/56.5 MB\u001b[0m \u001b[31m10.9 MB/s\u001b[0m eta \u001b[36m0:00:00\u001b[0m\n",
            "\u001b[?25hCollecting nvidia-cusolver-cu12==11.4.5.107 (from torch<3.0.0,>=2.0.0->inseq==0.5.0.dev0)\n",
            "  Downloading nvidia_cusolver_cu12-11.4.5.107-py3-none-manylinux1_x86_64.whl (124.2 MB)\n",
            "\u001b[2K     \u001b[90m━━━━━━━━━━━━━━━━━━━━━━━━━━━━━━━━━━━━━━━━\u001b[0m \u001b[32m124.2/124.2 MB\u001b[0m \u001b[31m8.6 MB/s\u001b[0m eta \u001b[36m0:00:00\u001b[0m\n",
            "\u001b[?25hCollecting nvidia-cusparse-cu12==12.1.0.106 (from torch<3.0.0,>=2.0.0->inseq==0.5.0.dev0)\n",
            "  Downloading nvidia_cusparse_cu12-12.1.0.106-py3-none-manylinux1_x86_64.whl (196.0 MB)\n",
            "\u001b[2K     \u001b[90m━━━━━━━━━━━━━━━━━━━━━━━━━━━━━━━━━━━━━━━━\u001b[0m \u001b[32m196.0/196.0 MB\u001b[0m \u001b[31m2.3 MB/s\u001b[0m eta \u001b[36m0:00:00\u001b[0m\n",
            "\u001b[?25hCollecting nvidia-nccl-cu12==2.18.1 (from torch<3.0.0,>=2.0.0->inseq==0.5.0.dev0)\n",
            "  Downloading nvidia_nccl_cu12-2.18.1-py3-none-manylinux1_x86_64.whl (209.8 MB)\n",
            "\u001b[2K     \u001b[90m━━━━━━━━━━━━━━━━━━━━━━━━━━━━━━━━━━━━━━━━\u001b[0m \u001b[32m209.8/209.8 MB\u001b[0m \u001b[31m2.9 MB/s\u001b[0m eta \u001b[36m0:00:00\u001b[0m\n",
            "\u001b[?25hCollecting nvidia-nvtx-cu12==12.1.105 (from torch<3.0.0,>=2.0.0->inseq==0.5.0.dev0)\n",
            "  Downloading nvidia_nvtx_cu12-12.1.105-py3-none-manylinux1_x86_64.whl (99 kB)\n",
            "\u001b[2K     \u001b[90m━━━━━━━━━━━━━━━━━━━━━━━━━━━━━━━━━━━━━━━━\u001b[0m \u001b[32m99.1/99.1 kB\u001b[0m \u001b[31m9.3 MB/s\u001b[0m eta \u001b[36m0:00:00\u001b[0m\n",
            "\u001b[?25hCollecting triton==2.1.0 (from torch<3.0.0,>=2.0.0->inseq==0.5.0.dev0)\n",
            "  Downloading triton-2.1.0-0-cp310-cp310-manylinux2014_x86_64.manylinux_2_17_x86_64.whl (89.2 MB)\n",
            "\u001b[2K     \u001b[90m━━━━━━━━━━━━━━━━━━━━━━━━━━━━━━━━━━━━━━━━\u001b[0m \u001b[32m89.2/89.2 MB\u001b[0m \u001b[31m9.3 MB/s\u001b[0m eta \u001b[36m0:00:00\u001b[0m\n",
            "\u001b[?25hCollecting nvidia-nvjitlink-cu12 (from nvidia-cusolver-cu12==11.4.5.107->torch<3.0.0,>=2.0.0->inseq==0.5.0.dev0)\n",
            "  Downloading nvidia_nvjitlink_cu12-12.2.140-py3-none-manylinux1_x86_64.whl (20.2 MB)\n",
            "\u001b[2K     \u001b[90m━━━━━━━━━━━━━━━━━━━━━━━━━━━━━━━━━━━━━━━━\u001b[0m \u001b[32m20.2/20.2 MB\u001b[0m \u001b[31m61.1 MB/s\u001b[0m eta \u001b[36m0:00:00\u001b[0m\n",
            "\u001b[?25hRequirement already satisfied: huggingface-hub<1.0,>=0.16.4 in /usr/local/lib/python3.10/dist-packages (from transformers[sentencepiece,tokenizers,torch]>=4.22.0->inseq==0.5.0.dev0) (0.17.3)\n",
            "Requirement already satisfied: pyyaml>=5.1 in /usr/local/lib/python3.10/dist-packages (from transformers[sentencepiece,tokenizers,torch]>=4.22.0->inseq==0.5.0.dev0) (6.0.1)\n",
            "Requirement already satisfied: regex!=2019.12.17 in /usr/local/lib/python3.10/dist-packages (from transformers[sentencepiece,tokenizers,torch]>=4.22.0->inseq==0.5.0.dev0) (2023.6.3)\n",
            "Requirement already satisfied: requests in /usr/local/lib/python3.10/dist-packages (from transformers[sentencepiece,tokenizers,torch]>=4.22.0->inseq==0.5.0.dev0) (2.31.0)\n",
            "Requirement already satisfied: tokenizers<0.15,>=0.14 in /usr/local/lib/python3.10/dist-packages (from transformers[sentencepiece,tokenizers,torch]>=4.22.0->inseq==0.5.0.dev0) (0.14.1)\n",
            "Requirement already satisfied: safetensors>=0.3.1 in /usr/local/lib/python3.10/dist-packages (from transformers[sentencepiece,tokenizers,torch]>=4.22.0->inseq==0.5.0.dev0) (0.4.0)\n",
            "Requirement already satisfied: sentencepiece!=0.1.92,>=0.1.91 in /usr/local/lib/python3.10/dist-packages (from transformers[sentencepiece,tokenizers,torch]>=4.22.0->inseq==0.5.0.dev0) (0.1.99)\n",
            "Requirement already satisfied: accelerate>=0.20.3 in /usr/local/lib/python3.10/dist-packages (from transformers[sentencepiece,tokenizers,torch]>=4.22.0->inseq==0.5.0.dev0) (0.23.0)\n",
            "Requirement already satisfied: psutil in /usr/local/lib/python3.10/dist-packages (from accelerate>=0.20.3->transformers[sentencepiece,tokenizers,torch]>=4.22.0->inseq==0.5.0.dev0) (5.9.5)\n",
            "Requirement already satisfied: six>=1.5 in /usr/local/lib/python3.10/dist-packages (from python-dateutil>=2.7->matplotlib<3.6.0,>=3.5.3->inseq==0.5.0.dev0) (1.16.0)\n",
            "Requirement already satisfied: MarkupSafe>=2.0 in /usr/local/lib/python3.10/dist-packages (from jinja2->torch<3.0.0,>=2.0.0->inseq==0.5.0.dev0) (2.1.3)\n",
            "Requirement already satisfied: charset-normalizer<4,>=2 in /usr/local/lib/python3.10/dist-packages (from requests->transformers[sentencepiece,tokenizers,torch]>=4.22.0->inseq==0.5.0.dev0) (3.3.0)\n",
            "Requirement already satisfied: idna<4,>=2.5 in /usr/local/lib/python3.10/dist-packages (from requests->transformers[sentencepiece,tokenizers,torch]>=4.22.0->inseq==0.5.0.dev0) (3.4)\n",
            "Requirement already satisfied: urllib3<3,>=1.21.1 in /usr/local/lib/python3.10/dist-packages (from requests->transformers[sentencepiece,tokenizers,torch]>=4.22.0->inseq==0.5.0.dev0) (2.0.6)\n",
            "Requirement already satisfied: certifi>=2017.4.17 in /usr/local/lib/python3.10/dist-packages (from requests->transformers[sentencepiece,tokenizers,torch]>=4.22.0->inseq==0.5.0.dev0) (2023.7.22)\n",
            "Requirement already satisfied: mpmath>=0.19 in /usr/local/lib/python3.10/dist-packages (from sympy->torch<3.0.0,>=2.0.0->inseq==0.5.0.dev0) (1.3.0)\n",
            "Building wheels for collected packages: inseq\n",
            "  Building wheel for inseq (pyproject.toml) ... \u001b[?25l\u001b[?25hdone\n",
            "  Created wheel for inseq: filename=inseq-0.5.0.dev0-py3-none-any.whl size=134111 sha256=57f22cdc04d2c6989ebb56855dea33f7517fba428fcc0fd43f4402751aada786\n",
            "  Stored in directory: /tmp/pip-ephem-wheel-cache-_z8qowjj/wheels/a0/a1/36/69a43da0b84a9c43b242a1927f7fb638a147e7c0392982ba43\n",
            "Successfully built inseq\n",
            "Installing collected packages: typeguard, triton, nvidia-nvtx-cu12, nvidia-nvtx-cu11, nvidia-nvjitlink-cu12, nvidia-nccl-cu12, nvidia-nccl-cu11, nvidia-cusparse-cu11, nvidia-curand-cu12, nvidia-curand-cu11, nvidia-cufft-cu12, nvidia-cufft-cu11, nvidia-cuda-runtime-cu12, nvidia-cuda-nvrtc-cu12, nvidia-cuda-cupti-cu12, nvidia-cuda-cupti-cu11, nvidia-cublas-cu12, nvidia-cusparse-cu12, nvidia-cusolver-cu11, nvidia-cudnn-cu12, nvidia-cusolver-cu12, torch, inseq\n",
            "  Attempting uninstall: typeguard\n",
            "    Found existing installation: typeguard 4.1.5\n",
            "    Uninstalling typeguard-4.1.5:\n",
            "      Successfully uninstalled typeguard-4.1.5\n",
            "  Attempting uninstall: triton\n",
            "    Found existing installation: triton 2.0.0\n",
            "    Uninstalling triton-2.0.0:\n",
            "      Successfully uninstalled triton-2.0.0\n",
            "  Attempting uninstall: torch\n",
            "    Found existing installation: torch 1.13.1\n",
            "    Uninstalling torch-1.13.1:\n",
            "      Successfully uninstalled torch-1.13.1\n",
            "  Attempting uninstall: inseq\n",
            "    Found existing installation: inseq 0.4.0\n",
            "    Uninstalling inseq-0.4.0:\n",
            "      Successfully uninstalled inseq-0.4.0\n",
            "\u001b[31mERROR: pip's dependency resolver does not currently take into account all the packages that are installed. This behaviour is the source of the following dependency conflicts.\n",
            "torchaudio 2.0.2+cu118 requires torch==2.0.1, but you have torch 2.1.0 which is incompatible.\n",
            "torchdata 0.6.1 requires torch==2.0.1, but you have torch 2.1.0 which is incompatible.\n",
            "torchtext 0.15.2 requires torch==2.0.1, but you have torch 2.1.0 which is incompatible.\n",
            "torchvision 0.15.2+cu118 requires torch==2.0.1, but you have torch 2.1.0 which is incompatible.\u001b[0m\u001b[31m\n",
            "\u001b[0mSuccessfully installed inseq-0.5.0.dev0 nvidia-cublas-cu12-12.1.3.1 nvidia-cuda-cupti-cu11-11.7.101 nvidia-cuda-cupti-cu12-12.1.105 nvidia-cuda-nvrtc-cu12-12.1.105 nvidia-cuda-runtime-cu12-12.1.105 nvidia-cudnn-cu12-8.9.2.26 nvidia-cufft-cu11-10.9.0.58 nvidia-cufft-cu12-11.0.2.54 nvidia-curand-cu11-10.2.10.91 nvidia-curand-cu12-10.3.2.106 nvidia-cusolver-cu11-11.4.0.1 nvidia-cusolver-cu12-11.4.5.107 nvidia-cusparse-cu11-11.7.4.91 nvidia-cusparse-cu12-12.1.0.106 nvidia-nccl-cu11-2.14.3 nvidia-nccl-cu12-2.18.1 nvidia-nvjitlink-cu12-12.2.140 nvidia-nvtx-cu11-11.7.91 nvidia-nvtx-cu12-12.1.105 torch-2.1.0 triton-2.1.0 typeguard-2.13.3\n"
          ]
        }
      ]
    },
    {
      "cell_type": "code",
      "source": [
        "!pip uninstall torch\n",
        "!pip install torch==2.0.1"
      ],
      "metadata": {
        "colab": {
          "base_uri": "https://localhost:8080/",
          "height": 951
        },
        "id": "COrTP7JkQV8B",
        "outputId": "59478c59-6c42-4c4e-d109-9bfad1bd985a"
      },
      "execution_count": 16,
      "outputs": [
        {
          "output_type": "stream",
          "name": "stdout",
          "text": [
            "Found existing installation: torch 2.1.0\n",
            "Uninstalling torch-2.1.0:\n",
            "  Would remove:\n",
            "    /usr/local/bin/convert-caffe2-to-onnx\n",
            "    /usr/local/bin/convert-onnx-to-caffe2\n",
            "    /usr/local/bin/torchrun\n",
            "    /usr/local/lib/python3.10/dist-packages/functorch/*\n",
            "    /usr/local/lib/python3.10/dist-packages/nvfuser/*\n",
            "    /usr/local/lib/python3.10/dist-packages/torch-2.1.0.dist-info/*\n",
            "    /usr/local/lib/python3.10/dist-packages/torch/*\n",
            "    /usr/local/lib/python3.10/dist-packages/torchgen/*\n",
            "Proceed (Y/n)? y\n",
            "  Successfully uninstalled torch-2.1.0\n",
            "Collecting torch==2.0.1\n",
            "  Downloading torch-2.0.1-cp310-cp310-manylinux1_x86_64.whl (619.9 MB)\n",
            "\u001b[2K     \u001b[90m━━━━━━━━━━━━━━━━━━━━━━━━━━━━━━━━━━━━━━━━\u001b[0m \u001b[32m619.9/619.9 MB\u001b[0m \u001b[31m2.4 MB/s\u001b[0m eta \u001b[36m0:00:00\u001b[0m\n",
            "\u001b[?25hRequirement already satisfied: filelock in /usr/local/lib/python3.10/dist-packages (from torch==2.0.1) (3.12.4)\n",
            "Requirement already satisfied: typing-extensions in /usr/local/lib/python3.10/dist-packages (from torch==2.0.1) (4.8.0)\n",
            "Requirement already satisfied: sympy in /usr/local/lib/python3.10/dist-packages (from torch==2.0.1) (1.12)\n",
            "Requirement already satisfied: networkx in /usr/local/lib/python3.10/dist-packages (from torch==2.0.1) (3.1)\n",
            "Requirement already satisfied: jinja2 in /usr/local/lib/python3.10/dist-packages (from torch==2.0.1) (3.1.2)\n",
            "Requirement already satisfied: nvidia-cuda-nvrtc-cu11==11.7.99 in /usr/local/lib/python3.10/dist-packages (from torch==2.0.1) (11.7.99)\n",
            "Requirement already satisfied: nvidia-cuda-runtime-cu11==11.7.99 in /usr/local/lib/python3.10/dist-packages (from torch==2.0.1) (11.7.99)\n",
            "Requirement already satisfied: nvidia-cuda-cupti-cu11==11.7.101 in /usr/local/lib/python3.10/dist-packages (from torch==2.0.1) (11.7.101)\n",
            "Requirement already satisfied: nvidia-cudnn-cu11==8.5.0.96 in /usr/local/lib/python3.10/dist-packages (from torch==2.0.1) (8.5.0.96)\n",
            "Requirement already satisfied: nvidia-cublas-cu11==11.10.3.66 in /usr/local/lib/python3.10/dist-packages (from torch==2.0.1) (11.10.3.66)\n",
            "Requirement already satisfied: nvidia-cufft-cu11==10.9.0.58 in /usr/local/lib/python3.10/dist-packages (from torch==2.0.1) (10.9.0.58)\n",
            "Requirement already satisfied: nvidia-curand-cu11==10.2.10.91 in /usr/local/lib/python3.10/dist-packages (from torch==2.0.1) (10.2.10.91)\n",
            "Requirement already satisfied: nvidia-cusolver-cu11==11.4.0.1 in /usr/local/lib/python3.10/dist-packages (from torch==2.0.1) (11.4.0.1)\n",
            "Requirement already satisfied: nvidia-cusparse-cu11==11.7.4.91 in /usr/local/lib/python3.10/dist-packages (from torch==2.0.1) (11.7.4.91)\n",
            "Requirement already satisfied: nvidia-nccl-cu11==2.14.3 in /usr/local/lib/python3.10/dist-packages (from torch==2.0.1) (2.14.3)\n",
            "Requirement already satisfied: nvidia-nvtx-cu11==11.7.91 in /usr/local/lib/python3.10/dist-packages (from torch==2.0.1) (11.7.91)\n",
            "Collecting triton==2.0.0 (from torch==2.0.1)\n",
            "  Downloading triton-2.0.0-1-cp310-cp310-manylinux2014_x86_64.manylinux_2_17_x86_64.whl (63.3 MB)\n",
            "\u001b[2K     \u001b[90m━━━━━━━━━━━━━━━━━━━━━━━━━━━━━━━━━━━━━━━━\u001b[0m \u001b[32m63.3/63.3 MB\u001b[0m \u001b[31m13.9 MB/s\u001b[0m eta \u001b[36m0:00:00\u001b[0m\n",
            "\u001b[?25hRequirement already satisfied: setuptools in /usr/local/lib/python3.10/dist-packages (from nvidia-cublas-cu11==11.10.3.66->torch==2.0.1) (67.7.2)\n",
            "Requirement already satisfied: wheel in /usr/local/lib/python3.10/dist-packages (from nvidia-cublas-cu11==11.10.3.66->torch==2.0.1) (0.41.2)\n",
            "Requirement already satisfied: cmake in /usr/local/lib/python3.10/dist-packages (from triton==2.0.0->torch==2.0.1) (3.27.7)\n",
            "Requirement already satisfied: lit in /usr/local/lib/python3.10/dist-packages (from triton==2.0.0->torch==2.0.1) (17.0.2)\n",
            "Requirement already satisfied: MarkupSafe>=2.0 in /usr/local/lib/python3.10/dist-packages (from jinja2->torch==2.0.1) (2.1.3)\n",
            "Requirement already satisfied: mpmath>=0.19 in /usr/local/lib/python3.10/dist-packages (from sympy->torch==2.0.1) (1.3.0)\n",
            "Installing collected packages: triton, torch\n",
            "  Attempting uninstall: triton\n",
            "    Found existing installation: triton 2.1.0\n",
            "    Uninstalling triton-2.1.0:\n",
            "      Successfully uninstalled triton-2.1.0\n",
            "Successfully installed torch-2.0.1 triton-2.0.0\n"
          ]
        },
        {
          "output_type": "display_data",
          "data": {
            "application/vnd.colab-display-data+json": {
              "pip_warning": {
                "packages": [
                  "torch",
                  "torchgen",
                  "triton"
                ]
              }
            }
          },
          "metadata": {}
        }
      ]
    },
    {
      "cell_type": "code",
      "source": [
        "import json\n",
        "\n",
        "claims = []\n",
        "labels = []\n",
        "evidences = []\n",
        "links = []\n",
        "\n",
        "# Open the JSONL file\n",
        "with open(\"./COVIDFACT_dataset.jsonl\", 'r') as file:\n",
        "    for index, line in enumerate(file):\n",
        "        try:\n",
        "          data = json.loads(line)\n",
        "\n",
        "          claims.append(data[\"claim\"])\n",
        "          labels.append(data[\"label\"])\n",
        "          links.append(data[\"gold_source\"])\n",
        "          evidence = data[\"evidence\"]\n",
        "\n",
        "          temp = \"\"\n",
        "          for e in evidence[:-1]:\n",
        "            temp += e\n",
        "            temp += \" \"\n",
        "          temp += evidence[-1]\n",
        "          evidences.append(temp)\n",
        "        except:\n",
        "          print(line, index)"
      ],
      "metadata": {
        "id": "Xql0dfZEhwPC"
      },
      "execution_count": 17,
      "outputs": []
    },
    {
      "cell_type": "code",
      "source": [
        "import matplotlib.pyplot as plt\n",
        "\n",
        "# REFUTED\n",
        "counter_0 = 0\n",
        "\n",
        "# SUPPORTED\n",
        "counter_1 = 1\n",
        "\n",
        "for l in labels:\n",
        "  if l == \"REFUTED\":\n",
        "    counter_0 += 1\n",
        "  else:\n",
        "    counter_1 += 1\n",
        "\n",
        "text_labels = [\"REFUTED\", \"SUPPORTED\"]\n",
        "total = counter_0 + counter_1\n",
        "fig, ax = plt.subplots()\n",
        "size = [counter_0/total, counter_1/total]\n",
        "ax.pie(size, labels=text_labels, autopct='%1.1f%%', shadow=True, startangle=90, colors=[\"lightcoral\", \"cornflowerblue\"])"
      ],
      "metadata": {
        "colab": {
          "base_uri": "https://localhost:8080/",
          "height": 510
        },
        "id": "xdCZ0hkJ4wXh",
        "outputId": "1781c2d2-2877-4957-f4e5-02f9b1028bb8"
      },
      "execution_count": 18,
      "outputs": [
        {
          "output_type": "execute_result",
          "data": {
            "text/plain": [
              "([<matplotlib.patches.Wedge at 0x79c5f5ac5ff0>,\n",
              "  <matplotlib.patches.Wedge at 0x79c5f5ac6950>],\n",
              " [Text(-0.923817320629024, -0.5971277569380034, 'REFUTED'),\n",
              "  Text(0.9238173765361558, 0.5971276704439804, 'SUPPORTED')],\n",
              " [Text(-0.5039003567067403, -0.3257060492389109, '68.3%'),\n",
              "  Text(0.5039003872015395, 0.3257060020603529, '31.7%')])"
            ]
          },
          "metadata": {},
          "execution_count": 18
        },
        {
          "output_type": "display_data",
          "data": {
            "text/plain": [
              "<Figure size 640x480 with 1 Axes>"
            ],
            "image/png": "[encoded data removed]"
          },
          "metadata": {}
        }
      ]
    },
    {
      "cell_type": "code",
      "source": [
        "import pandas as pd\n",
        "\n",
        "name_dict = {\n",
        "        \"claims\": claims,\n",
        "        \"labels\": labels,\n",
        "        \"evidences\": evidences,\n",
        "        \"links\": links,\n",
        "      }\n",
        "\n",
        "df = pd.DataFrame(name_dict)\n",
        "df.to_csv('./COVIDFACT_dataset.csv', encoding='utf-8')"
      ],
      "metadata": {
        "id": "x_DvduQto7rT"
      },
      "execution_count": 20,
      "outputs": []
    },
    {
      "cell_type": "code",
      "source": [
        "!pip install transformers\n",
        "!pip install optimum\n",
        "!pip install auto-gptq"
      ],
      "metadata": {
        "colab": {
          "base_uri": "https://localhost:8080/"
        },
        "id": "3pg0QkGSqemk",
        "outputId": "7e4f90cb-5f4f-4321-9ceb-1eeec74a8f7e"
      },
      "execution_count": 19,
      "outputs": [
        {
          "output_type": "stream",
          "name": "stdout",
          "text": [
            "Requirement already satisfied: transformers in /usr/local/lib/python3.10/dist-packages (4.34.1)\n",
            "Requirement already satisfied: filelock in /usr/local/lib/python3.10/dist-packages (from transformers) (3.12.4)\n",
            "Requirement already satisfied: huggingface-hub<1.0,>=0.16.4 in /usr/local/lib/python3.10/dist-packages (from transformers) (0.17.3)\n",
            "Requirement already satisfied: numpy>=1.17 in /usr/local/lib/python3.10/dist-packages (from transformers) (1.23.5)\n",
            "Requirement already satisfied: packaging>=20.0 in /usr/local/lib/python3.10/dist-packages (from transformers) (23.2)\n",
            "Requirement already satisfied: pyyaml>=5.1 in /usr/local/lib/python3.10/dist-packages (from transformers) (6.0.1)\n",
            "Requirement already satisfied: regex!=2019.12.17 in /usr/local/lib/python3.10/dist-packages (from transformers) (2023.6.3)\n",
            "Requirement already satisfied: requests in /usr/local/lib/python3.10/dist-packages (from transformers) (2.31.0)\n",
            "Requirement already satisfied: tokenizers<0.15,>=0.14 in /usr/local/lib/python3.10/dist-packages (from transformers) (0.14.1)\n",
            "Requirement already satisfied: safetensors>=0.3.1 in /usr/local/lib/python3.10/dist-packages (from transformers) (0.4.0)\n",
            "Requirement already satisfied: tqdm>=4.27 in /usr/local/lib/python3.10/dist-packages (from transformers) (4.66.1)\n",
            "Requirement already satisfied: fsspec in /usr/local/lib/python3.10/dist-packages (from huggingface-hub<1.0,>=0.16.4->transformers) (2023.6.0)\n",
            "Requirement already satisfied: typing-extensions>=3.7.4.3 in /usr/local/lib/python3.10/dist-packages (from huggingface-hub<1.0,>=0.16.4->transformers) (4.8.0)\n",
            "Requirement already satisfied: charset-normalizer<4,>=2 in /usr/local/lib/python3.10/dist-packages (from requests->transformers) (3.3.0)\n",
            "Requirement already satisfied: idna<4,>=2.5 in /usr/local/lib/python3.10/dist-packages (from requests->transformers) (3.4)\n",
            "Requirement already satisfied: urllib3<3,>=1.21.1 in /usr/local/lib/python3.10/dist-packages (from requests->transformers) (2.0.6)\n",
            "Requirement already satisfied: certifi>=2017.4.17 in /usr/local/lib/python3.10/dist-packages (from requests->transformers) (2023.7.22)\n",
            "Requirement already satisfied: optimum in /usr/local/lib/python3.10/dist-packages (1.13.2)\n",
            "Requirement already satisfied: coloredlogs in /usr/local/lib/python3.10/dist-packages (from optimum) (15.0.1)\n",
            "Requirement already satisfied: sympy in /usr/local/lib/python3.10/dist-packages (from optimum) (1.12)\n",
            "Requirement already satisfied: transformers[sentencepiece]>=4.26.0 in /usr/local/lib/python3.10/dist-packages (from optimum) (4.34.1)\n",
            "Requirement already satisfied: torch>=1.9 in /usr/local/lib/python3.10/dist-packages (from optimum) (2.0.1)\n",
            "Requirement already satisfied: packaging in /usr/local/lib/python3.10/dist-packages (from optimum) (23.2)\n",
            "Requirement already satisfied: numpy in /usr/local/lib/python3.10/dist-packages (from optimum) (1.23.5)\n",
            "Requirement already satisfied: huggingface-hub>=0.8.0 in /usr/local/lib/python3.10/dist-packages (from optimum) (0.17.3)\n",
            "Requirement already satisfied: datasets in /usr/local/lib/python3.10/dist-packages (from optimum) (2.14.5)\n",
            "Requirement already satisfied: filelock in /usr/local/lib/python3.10/dist-packages (from huggingface-hub>=0.8.0->optimum) (3.12.4)\n",
            "Requirement already satisfied: fsspec in /usr/local/lib/python3.10/dist-packages (from huggingface-hub>=0.8.0->optimum) (2023.6.0)\n",
            "Requirement already satisfied: requests in /usr/local/lib/python3.10/dist-packages (from huggingface-hub>=0.8.0->optimum) (2.31.0)\n",
            "Requirement already satisfied: tqdm>=4.42.1 in /usr/local/lib/python3.10/dist-packages (from huggingface-hub>=0.8.0->optimum) (4.66.1)\n",
            "Requirement already satisfied: pyyaml>=5.1 in /usr/local/lib/python3.10/dist-packages (from huggingface-hub>=0.8.0->optimum) (6.0.1)\n",
            "Requirement already satisfied: typing-extensions>=3.7.4.3 in /usr/local/lib/python3.10/dist-packages (from huggingface-hub>=0.8.0->optimum) (4.8.0)\n",
            "Requirement already satisfied: networkx in /usr/local/lib/python3.10/dist-packages (from torch>=1.9->optimum) (3.1)\n",
            "Requirement already satisfied: jinja2 in /usr/local/lib/python3.10/dist-packages (from torch>=1.9->optimum) (3.1.2)\n",
            "Requirement already satisfied: nvidia-cuda-nvrtc-cu11==11.7.99 in /usr/local/lib/python3.10/dist-packages (from torch>=1.9->optimum) (11.7.99)\n",
            "Requirement already satisfied: nvidia-cuda-runtime-cu11==11.7.99 in /usr/local/lib/python3.10/dist-packages (from torch>=1.9->optimum) (11.7.99)\n",
            "Requirement already satisfied: nvidia-cuda-cupti-cu11==11.7.101 in /usr/local/lib/python3.10/dist-packages (from torch>=1.9->optimum) (11.7.101)\n",
            "Requirement already satisfied: nvidia-cudnn-cu11==8.5.0.96 in /usr/local/lib/python3.10/dist-packages (from torch>=1.9->optimum) (8.5.0.96)\n",
            "Requirement already satisfied: nvidia-cublas-cu11==11.10.3.66 in /usr/local/lib/python3.10/dist-packages (from torch>=1.9->optimum) (11.10.3.66)\n",
            "Requirement already satisfied: nvidia-cufft-cu11==10.9.0.58 in /usr/local/lib/python3.10/dist-packages (from torch>=1.9->optimum) (10.9.0.58)\n",
            "Requirement already satisfied: nvidia-curand-cu11==10.2.10.91 in /usr/local/lib/python3.10/dist-packages (from torch>=1.9->optimum) (10.2.10.91)\n",
            "Requirement already satisfied: nvidia-cusolver-cu11==11.4.0.1 in /usr/local/lib/python3.10/dist-packages (from torch>=1.9->optimum) (11.4.0.1)\n",
            "Requirement already satisfied: nvidia-cusparse-cu11==11.7.4.91 in /usr/local/lib/python3.10/dist-packages (from torch>=1.9->optimum) (11.7.4.91)\n",
            "Requirement already satisfied: nvidia-nccl-cu11==2.14.3 in /usr/local/lib/python3.10/dist-packages (from torch>=1.9->optimum) (2.14.3)\n",
            "Requirement already satisfied: nvidia-nvtx-cu11==11.7.91 in /usr/local/lib/python3.10/dist-packages (from torch>=1.9->optimum) (11.7.91)\n",
            "Requirement already satisfied: triton==2.0.0 in /usr/local/lib/python3.10/dist-packages (from torch>=1.9->optimum) (2.0.0)\n",
            "Requirement already satisfied: setuptools in /usr/local/lib/python3.10/dist-packages (from nvidia-cublas-cu11==11.10.3.66->torch>=1.9->optimum) (67.7.2)\n",
            "Requirement already satisfied: wheel in /usr/local/lib/python3.10/dist-packages (from nvidia-cublas-cu11==11.10.3.66->torch>=1.9->optimum) (0.41.2)\n",
            "Requirement already satisfied: cmake in /usr/local/lib/python3.10/dist-packages (from triton==2.0.0->torch>=1.9->optimum) (3.27.7)\n",
            "Requirement already satisfied: lit in /usr/local/lib/python3.10/dist-packages (from triton==2.0.0->torch>=1.9->optimum) (17.0.2)\n",
            "Requirement already satisfied: regex!=2019.12.17 in /usr/local/lib/python3.10/dist-packages (from transformers[sentencepiece]>=4.26.0->optimum) (2023.6.3)\n",
            "Requirement already satisfied: tokenizers<0.15,>=0.14 in /usr/local/lib/python3.10/dist-packages (from transformers[sentencepiece]>=4.26.0->optimum) (0.14.1)\n",
            "Requirement already satisfied: safetensors>=0.3.1 in /usr/local/lib/python3.10/dist-packages (from transformers[sentencepiece]>=4.26.0->optimum) (0.4.0)\n",
            "Requirement already satisfied: sentencepiece!=0.1.92,>=0.1.91 in /usr/local/lib/python3.10/dist-packages (from transformers[sentencepiece]>=4.26.0->optimum) (0.1.99)\n",
            "Requirement already satisfied: protobuf in /usr/local/lib/python3.10/dist-packages (from transformers[sentencepiece]>=4.26.0->optimum) (3.20.3)\n",
            "Requirement already satisfied: humanfriendly>=9.1 in /usr/local/lib/python3.10/dist-packages (from coloredlogs->optimum) (10.0)\n",
            "Requirement already satisfied: pyarrow>=8.0.0 in /usr/local/lib/python3.10/dist-packages (from datasets->optimum) (9.0.0)\n",
            "Requirement already satisfied: dill<0.3.8,>=0.3.0 in /usr/local/lib/python3.10/dist-packages (from datasets->optimum) (0.3.7)\n",
            "Requirement already satisfied: pandas in /usr/local/lib/python3.10/dist-packages (from datasets->optimum) (1.5.3)\n",
            "Requirement already satisfied: xxhash in /usr/local/lib/python3.10/dist-packages (from datasets->optimum) (3.4.1)\n",
            "Requirement already satisfied: multiprocess in /usr/local/lib/python3.10/dist-packages (from datasets->optimum) (0.70.15)\n",
            "Requirement already satisfied: aiohttp in /usr/local/lib/python3.10/dist-packages (from datasets->optimum) (3.8.6)\n",
            "Requirement already satisfied: mpmath>=0.19 in /usr/local/lib/python3.10/dist-packages (from sympy->optimum) (1.3.0)\n",
            "Requirement already satisfied: attrs>=17.3.0 in /usr/local/lib/python3.10/dist-packages (from aiohttp->datasets->optimum) (23.1.0)\n",
            "Requirement already satisfied: charset-normalizer<4.0,>=2.0 in /usr/local/lib/python3.10/dist-packages (from aiohttp->datasets->optimum) (3.3.0)\n",
            "Requirement already satisfied: multidict<7.0,>=4.5 in /usr/local/lib/python3.10/dist-packages (from aiohttp->datasets->optimum) (6.0.4)\n",
            "Requirement already satisfied: async-timeout<5.0,>=4.0.0a3 in /usr/local/lib/python3.10/dist-packages (from aiohttp->datasets->optimum) (4.0.3)\n",
            "Requirement already satisfied: yarl<2.0,>=1.0 in /usr/local/lib/python3.10/dist-packages (from aiohttp->datasets->optimum) (1.9.2)\n",
            "Requirement already satisfied: frozenlist>=1.1.1 in /usr/local/lib/python3.10/dist-packages (from aiohttp->datasets->optimum) (1.4.0)\n",
            "Requirement already satisfied: aiosignal>=1.1.2 in /usr/local/lib/python3.10/dist-packages (from aiohttp->datasets->optimum) (1.3.1)\n",
            "Requirement already satisfied: idna<4,>=2.5 in /usr/local/lib/python3.10/dist-packages (from requests->huggingface-hub>=0.8.0->optimum) (3.4)\n",
            "Requirement already satisfied: urllib3<3,>=1.21.1 in /usr/local/lib/python3.10/dist-packages (from requests->huggingface-hub>=0.8.0->optimum) (2.0.6)\n",
            "Requirement already satisfied: certifi>=2017.4.17 in /usr/local/lib/python3.10/dist-packages (from requests->huggingface-hub>=0.8.0->optimum) (2023.7.22)\n",
            "Requirement already satisfied: MarkupSafe>=2.0 in /usr/local/lib/python3.10/dist-packages (from jinja2->torch>=1.9->optimum) (2.1.3)\n",
            "Requirement already satisfied: python-dateutil>=2.8.1 in /usr/local/lib/python3.10/dist-packages (from pandas->datasets->optimum) (2.8.2)\n",
            "Requirement already satisfied: pytz>=2020.1 in /usr/local/lib/python3.10/dist-packages (from pandas->datasets->optimum) (2023.3.post1)\n",
            "Requirement already satisfied: six>=1.5 in /usr/local/lib/python3.10/dist-packages (from python-dateutil>=2.8.1->pandas->datasets->optimum) (1.16.0)\n",
            "Requirement already satisfied: auto-gptq in /usr/local/lib/python3.10/dist-packages (0.4.2)\n",
            "Requirement already satisfied: accelerate>=0.19.0 in /usr/local/lib/python3.10/dist-packages (from auto-gptq) (0.23.0)\n",
            "Requirement already satisfied: datasets in /usr/local/lib/python3.10/dist-packages (from auto-gptq) (2.14.5)\n",
            "Requirement already satisfied: numpy in /usr/local/lib/python3.10/dist-packages (from auto-gptq) (1.23.5)\n",
            "Requirement already satisfied: rouge in /usr/local/lib/python3.10/dist-packages (from auto-gptq) (1.0.1)\n",
            "Requirement already satisfied: torch>=1.13.0 in /usr/local/lib/python3.10/dist-packages (from auto-gptq) (2.0.1)\n",
            "Requirement already satisfied: safetensors in /usr/local/lib/python3.10/dist-packages (from auto-gptq) (0.4.0)\n",
            "Requirement already satisfied: transformers>=4.31.0 in /usr/local/lib/python3.10/dist-packages (from auto-gptq) (4.34.1)\n",
            "Requirement already satisfied: peft in /usr/local/lib/python3.10/dist-packages (from auto-gptq) (0.5.0)\n",
            "Requirement already satisfied: packaging>=20.0 in /usr/local/lib/python3.10/dist-packages (from accelerate>=0.19.0->auto-gptq) (23.2)\n",
            "Requirement already satisfied: psutil in /usr/local/lib/python3.10/dist-packages (from accelerate>=0.19.0->auto-gptq) (5.9.5)\n",
            "Requirement already satisfied: pyyaml in /usr/local/lib/python3.10/dist-packages (from accelerate>=0.19.0->auto-gptq) (6.0.1)\n",
            "Requirement already satisfied: huggingface-hub in /usr/local/lib/python3.10/dist-packages (from accelerate>=0.19.0->auto-gptq) (0.17.3)\n",
            "Requirement already satisfied: filelock in /usr/local/lib/python3.10/dist-packages (from torch>=1.13.0->auto-gptq) (3.12.4)\n",
            "Requirement already satisfied: typing-extensions in /usr/local/lib/python3.10/dist-packages (from torch>=1.13.0->auto-gptq) (4.8.0)\n",
            "Requirement already satisfied: sympy in /usr/local/lib/python3.10/dist-packages (from torch>=1.13.0->auto-gptq) (1.12)\n",
            "Requirement already satisfied: networkx in /usr/local/lib/python3.10/dist-packages (from torch>=1.13.0->auto-gptq) (3.1)\n",
            "Requirement already satisfied: jinja2 in /usr/local/lib/python3.10/dist-packages (from torch>=1.13.0->auto-gptq) (3.1.2)\n",
            "Requirement already satisfied: nvidia-cuda-nvrtc-cu11==11.7.99 in /usr/local/lib/python3.10/dist-packages (from torch>=1.13.0->auto-gptq) (11.7.99)\n",
            "Requirement already satisfied: nvidia-cuda-runtime-cu11==11.7.99 in /usr/local/lib/python3.10/dist-packages (from torch>=1.13.0->auto-gptq) (11.7.99)\n",
            "Requirement already satisfied: nvidia-cuda-cupti-cu11==11.7.101 in /usr/local/lib/python3.10/dist-packages (from torch>=1.13.0->auto-gptq) (11.7.101)\n",
            "Requirement already satisfied: nvidia-cudnn-cu11==8.5.0.96 in /usr/local/lib/python3.10/dist-packages (from torch>=1.13.0->auto-gptq) (8.5.0.96)\n",
            "Requirement already satisfied: nvidia-cublas-cu11==11.10.3.66 in /usr/local/lib/python3.10/dist-packages (from torch>=1.13.0->auto-gptq) (11.10.3.66)\n",
            "Requirement already satisfied: nvidia-cufft-cu11==10.9.0.58 in /usr/local/lib/python3.10/dist-packages (from torch>=1.13.0->auto-gptq) (10.9.0.58)\n",
            "Requirement already satisfied: nvidia-curand-cu11==10.2.10.91 in /usr/local/lib/python3.10/dist-packages (from torch>=1.13.0->auto-gptq) (10.2.10.91)\n",
            "Requirement already satisfied: nvidia-cusolver-cu11==11.4.0.1 in /usr/local/lib/python3.10/dist-packages (from torch>=1.13.0->auto-gptq) (11.4.0.1)\n",
            "Requirement already satisfied: nvidia-cusparse-cu11==11.7.4.91 in /usr/local/lib/python3.10/dist-packages (from torch>=1.13.0->auto-gptq) (11.7.4.91)\n",
            "Requirement already satisfied: nvidia-nccl-cu11==2.14.3 in /usr/local/lib/python3.10/dist-packages (from torch>=1.13.0->auto-gptq) (2.14.3)\n",
            "Requirement already satisfied: nvidia-nvtx-cu11==11.7.91 in /usr/local/lib/python3.10/dist-packages (from torch>=1.13.0->auto-gptq) (11.7.91)\n",
            "Requirement already satisfied: triton==2.0.0 in /usr/local/lib/python3.10/dist-packages (from torch>=1.13.0->auto-gptq) (2.0.0)\n",
            "Requirement already satisfied: setuptools in /usr/local/lib/python3.10/dist-packages (from nvidia-cublas-cu11==11.10.3.66->torch>=1.13.0->auto-gptq) (67.7.2)\n",
            "Requirement already satisfied: wheel in /usr/local/lib/python3.10/dist-packages (from nvidia-cublas-cu11==11.10.3.66->torch>=1.13.0->auto-gptq) (0.41.2)\n",
            "Requirement already satisfied: cmake in /usr/local/lib/python3.10/dist-packages (from triton==2.0.0->torch>=1.13.0->auto-gptq) (3.27.7)\n",
            "Requirement already satisfied: lit in /usr/local/lib/python3.10/dist-packages (from triton==2.0.0->torch>=1.13.0->auto-gptq) (17.0.2)\n",
            "Requirement already satisfied: regex!=2019.12.17 in /usr/local/lib/python3.10/dist-packages (from transformers>=4.31.0->auto-gptq) (2023.6.3)\n",
            "Requirement already satisfied: requests in /usr/local/lib/python3.10/dist-packages (from transformers>=4.31.0->auto-gptq) (2.31.0)\n",
            "Requirement already satisfied: tokenizers<0.15,>=0.14 in /usr/local/lib/python3.10/dist-packages (from transformers>=4.31.0->auto-gptq) (0.14.1)\n",
            "Requirement already satisfied: tqdm>=4.27 in /usr/local/lib/python3.10/dist-packages (from transformers>=4.31.0->auto-gptq) (4.66.1)\n",
            "Requirement already satisfied: pyarrow>=8.0.0 in /usr/local/lib/python3.10/dist-packages (from datasets->auto-gptq) (9.0.0)\n",
            "Requirement already satisfied: dill<0.3.8,>=0.3.0 in /usr/local/lib/python3.10/dist-packages (from datasets->auto-gptq) (0.3.7)\n",
            "Requirement already satisfied: pandas in /usr/local/lib/python3.10/dist-packages (from datasets->auto-gptq) (1.5.3)\n",
            "Requirement already satisfied: xxhash in /usr/local/lib/python3.10/dist-packages (from datasets->auto-gptq) (3.4.1)\n",
            "Requirement already satisfied: multiprocess in /usr/local/lib/python3.10/dist-packages (from datasets->auto-gptq) (0.70.15)\n",
            "Requirement already satisfied: fsspec[http]<2023.9.0,>=2023.1.0 in /usr/local/lib/python3.10/dist-packages (from datasets->auto-gptq) (2023.6.0)\n",
            "Requirement already satisfied: aiohttp in /usr/local/lib/python3.10/dist-packages (from datasets->auto-gptq) (3.8.6)\n",
            "Requirement already satisfied: six in /usr/local/lib/python3.10/dist-packages (from rouge->auto-gptq) (1.16.0)\n",
            "Requirement already satisfied: attrs>=17.3.0 in /usr/local/lib/python3.10/dist-packages (from aiohttp->datasets->auto-gptq) (23.1.0)\n",
            "Requirement already satisfied: charset-normalizer<4.0,>=2.0 in /usr/local/lib/python3.10/dist-packages (from aiohttp->datasets->auto-gptq) (3.3.0)\n",
            "Requirement already satisfied: multidict<7.0,>=4.5 in /usr/local/lib/python3.10/dist-packages (from aiohttp->datasets->auto-gptq) (6.0.4)\n",
            "Requirement already satisfied: async-timeout<5.0,>=4.0.0a3 in /usr/local/lib/python3.10/dist-packages (from aiohttp->datasets->auto-gptq) (4.0.3)\n",
            "Requirement already satisfied: yarl<2.0,>=1.0 in /usr/local/lib/python3.10/dist-packages (from aiohttp->datasets->auto-gptq) (1.9.2)\n",
            "Requirement already satisfied: frozenlist>=1.1.1 in /usr/local/lib/python3.10/dist-packages (from aiohttp->datasets->auto-gptq) (1.4.0)\n",
            "Requirement already satisfied: aiosignal>=1.1.2 in /usr/local/lib/python3.10/dist-packages (from aiohttp->datasets->auto-gptq) (1.3.1)\n",
            "Requirement already satisfied: idna<4,>=2.5 in /usr/local/lib/python3.10/dist-packages (from requests->transformers>=4.31.0->auto-gptq) (3.4)\n",
            "Requirement already satisfied: urllib3<3,>=1.21.1 in /usr/local/lib/python3.10/dist-packages (from requests->transformers>=4.31.0->auto-gptq) (2.0.6)\n",
            "Requirement already satisfied: certifi>=2017.4.17 in /usr/local/lib/python3.10/dist-packages (from requests->transformers>=4.31.0->auto-gptq) (2023.7.22)\n",
            "Requirement already satisfied: MarkupSafe>=2.0 in /usr/local/lib/python3.10/dist-packages (from jinja2->torch>=1.13.0->auto-gptq) (2.1.3)\n",
            "Requirement already satisfied: python-dateutil>=2.8.1 in /usr/local/lib/python3.10/dist-packages (from pandas->datasets->auto-gptq) (2.8.2)\n",
            "Requirement already satisfied: pytz>=2020.1 in /usr/local/lib/python3.10/dist-packages (from pandas->datasets->auto-gptq) (2023.3.post1)\n",
            "Requirement already satisfied: mpmath>=0.19 in /usr/local/lib/python3.10/dist-packages (from sympy->torch>=1.13.0->auto-gptq) (1.3.0)\n"
          ]
        }
      ]
    },
    {
      "cell_type": "code",
      "source": [
        "import torch\n",
        "from transformers import AutoTokenizer, AutoModelForCausalLM\n",
        "\n",
        "tokenizer = AutoTokenizer.from_pretrained(\"TheBloke/Llama-2-7b-Chat-GPTQ\")\n",
        "model = AutoModelForCausalLM.from_pretrained(\"TheBloke/Llama-2-7b-Chat-GPTQ\",torch_dtype=torch.float16, device_map=\"auto\")"
      ],
      "metadata": {
        "colab": {
          "base_uri": "https://localhost:8080/"
        },
        "id": "_YA4bRy2qhld",
        "outputId": "f4d93b72-d7f4-4dce-be8a-9ca13cd51f5b"
      },
      "execution_count": 42,
      "outputs": [
        {
          "output_type": "stream",
          "name": "stderr",
          "text": [
            "\rAttributing with integrated_gradients...:  98%|█████████▊| 195/198 [01:33<04:39, 93.15s/it]\n"
          ]
        }
      ]
    },
    {
      "cell_type": "code",
      "source": [
        "model"
      ],
      "metadata": {
        "colab": {
          "base_uri": "https://localhost:8080/"
        },
        "id": "ijr8ihyrq1q5",
        "outputId": "eb81467a-e8c9-4bc7-823d-bee14e3cdd9f"
      },
      "execution_count": 26,
      "outputs": [
        {
          "output_type": "execute_result",
          "data": {
            "text/plain": [
              "LlamaForCausalLM(\n",
              "  (model): LlamaModel(\n",
              "    (embed_tokens): Embedding(32000, 4096, padding_idx=0)\n",
              "    (layers): ModuleList(\n",
              "      (0-31): 32 x LlamaDecoderLayer(\n",
              "        (self_attn): LlamaAttention(\n",
              "          (rotary_emb): LlamaRotaryEmbedding()\n",
              "          (k_proj): QuantLinear()\n",
              "          (o_proj): QuantLinear()\n",
              "          (q_proj): QuantLinear()\n",
              "          (v_proj): QuantLinear()\n",
              "        )\n",
              "        (mlp): LlamaMLP(\n",
              "          (act_fn): SiLUActivation()\n",
              "          (down_proj): QuantLinear()\n",
              "          (gate_proj): QuantLinear()\n",
              "          (up_proj): QuantLinear()\n",
              "        )\n",
              "        (input_layernorm): LlamaRMSNorm()\n",
              "        (post_attention_layernorm): LlamaRMSNorm()\n",
              "      )\n",
              "    )\n",
              "    (norm): LlamaRMSNorm()\n",
              "  )\n",
              "  (lm_head): Linear(in_features=4096, out_features=32000, bias=False)\n",
              ")"
            ]
          },
          "metadata": {},
          "execution_count": 26
        }
      ]
    },
    {
      "cell_type": "code",
      "source": [
        "print(claims[1])\n",
        "print(labels[1])\n",
        "print(evidences[1])\n",
        "print(links[1])"
      ],
      "metadata": {
        "colab": {
          "base_uri": "https://localhost:8080/"
        },
        "id": "2p8P10Lou21H",
        "outputId": "eaaa9ce7-cb80-4342-d377-18d2a6d44646"
      },
      "execution_count": 23,
      "outputs": [
        {
          "output_type": "stream",
          "name": "stdout",
          "text": [
            "Measuring chs-cov-2 neutralizing antibody activity using pseudotyped and chimeric viruses\n",
            "REFUTED\n",
            "While each surrogate virus exhibited subtle differences in the sensitivity with which neutralizing activity was detected, the neutralizing activity of both convalescent plasma and human monoclonal antibodies measured using each virus correlated quantitatively with neutralizing activity measured using an authentic SARS-CoV-2 neutralization assay. Here, we describe a collection of approaches based on SARS-CoV-2 spike-pseudotyped, single-cycle, replication-defective human immunodeficiency virus type-1 (HIV-1) and vesicular stomatitis virus (VSV), as well as a replication-competent VSV/SARS- CoV-2 chimeric virus.\n",
            "https://rupress.org/jem/article/217/11/e20201181/151961/Measuring-SARS-CoV-2-neutralizing-antibody\n"
          ]
        }
      ]
    },
    {
      "cell_type": "code",
      "source": [
        "import locale\n",
        "locale.getpreferredencoding = lambda: \"UTF-8\"\n",
        "!pip install lark"
      ],
      "metadata": {
        "colab": {
          "base_uri": "https://localhost:8080/"
        },
        "id": "4FW8VVJe3A72",
        "outputId": "b1da3123-1312-4cd3-ea41-5e090110dcef"
      },
      "execution_count": 24,
      "outputs": [
        {
          "output_type": "stream",
          "name": "stdout",
          "text": [
            "Requirement already satisfied: lark in /usr/local/lib/python3.10/dist-packages (1.1.7)\n"
          ]
        }
      ]
    },
    {
      "cell_type": "markdown",
      "source": [
        "# Prediction"
      ],
      "metadata": {
        "id": "Easg55q-Wopg"
      }
    },
    {
      "cell_type": "code",
      "source": [
        "import json\n",
        "import os\n",
        "import copy\n",
        "import re\n",
        "import random\n",
        "\n",
        "import pandas as pd\n",
        "from tqdm import tqdm\n",
        "\n",
        "from lark import Lark\n",
        "import numpy as np\n",
        "\n",
        "import torch\n",
        "\n",
        "from transformers import LogitsProcessor, AutoModelForCausalLM, AutoTokenizer\n",
        "\n",
        "\n",
        "class GuidedDecodingLogitsProcessor(LogitsProcessor):\n",
        "    def __init__(self, parser, prompt_length, filter_value=-float(\"Inf\"), *args, **kwargs):\n",
        "        super().__init__(*args, **kwargs)\n",
        "        self.parser = parser\n",
        "        self.prompt_length = prompt_length\n",
        "        self.filter_value = filter_value\n",
        "\n",
        "    def __call__(self, input_ids, scores):\n",
        "        valid_tokens = torch.ones_like(scores) * self.filter_value\n",
        "\n",
        "        # The tokens generated so far\n",
        "        for b in range(scores.shape[0]):\n",
        "            generated_tokens = input_ids[b, self.prompt_length:].cpu().tolist()\n",
        "            next_tokens = self.parser.next_tokens(generated_tokens)\n",
        "            int_next_tokens = np.array([int(t) for t in next_tokens])\n",
        "\n",
        "            # Adjust the scores to allow only valid tokens\n",
        "            valid_tokens[b, int_next_tokens] = scores[b, int_next_tokens]\n",
        "        return valid_tokens\n",
        "\n",
        "\n",
        "class GuidedParser:\n",
        "    \"\"\"A class defining the mapping between text grammar and tokenized grammar.\"\"\"\n",
        "    def __init__(self, init_grammar, tokenizer, model, eos_token=None):\n",
        "\n",
        "        # The grammar with natural language text\n",
        "        self.text_grammar = init_grammar\n",
        "\n",
        "        # The natural language parser\n",
        "        self.text_parser = Lark(self.text_grammar, parser=\"lalr\")\n",
        "\n",
        "        # The hugging face tokenizer\n",
        "        self.tokenizer = tokenizer\n",
        "\n",
        "        # Store the model being used. This influences some decoding settings\n",
        "        self.model = model\n",
        "\n",
        "        # The grammar compiled with tokens from the hugging face tokenizer\n",
        "        self.token_grammar = self._compile_grammar(self.text_grammar, self.tokenizer)\n",
        "\n",
        "        # The tokenized parser\n",
        "        self.token_parser = Lark(self.token_grammar, parser=\"lalr\")\n",
        "\n",
        "        self.terminal_lookup = {}\n",
        "\n",
        "        for terminal in self.token_parser.terminals:\n",
        "            self.terminal_lookup[terminal.name] = terminal.pattern.value\n",
        "\n",
        "        if eos_token is None:\n",
        "            if model == \"gpt\":\n",
        "                self.eos_token = tokenizer.encode(\" [e]\")[-1]\n",
        "            else:\n",
        "                raise NameError(f\"don't know model {model}\")\n",
        "        else:\n",
        "            self.eos_token = eos_token\n",
        "\n",
        "    def _compile_grammar(self, grammar, tokenizer):\n",
        "        \"\"\"Compiles a grammar into tokens.\"\"\"\n",
        "\n",
        "        # Create the tokenizer grammar\n",
        "        tokenized_grammar = copy.deepcopy(grammar)\n",
        "\n",
        "        # Find all the terminals\n",
        "        terminals = re.findall('\"([^\"]*)\"', grammar)\n",
        "\n",
        "        # Store existing terminals\n",
        "        existing_terms = {}\n",
        "\n",
        "        # Records the update rules for the terminals\n",
        "        indx = 0\n",
        "        for term in tqdm(terminals):\n",
        "            tokens = tokenizer.encode(term)\n",
        "\n",
        "            replacement_rule = \"(\"\n",
        "            for tok in tokens:\n",
        "                if tok == 1 and self.model == \"t5\":\n",
        "                    continue\n",
        "                # If it already exists, we don't want to add\n",
        "                # the terminal again, just use the old one\n",
        "                if tok in existing_terms:\n",
        "                    name = existing_terms[tok]\n",
        "                else:\n",
        "                    name = f\"ANON{indx} \"\n",
        "                    indx += 1\n",
        "                    newrule = name + \": \" + \"\\\"\" + str(tok) + \"\\\"\"\n",
        "                    tokenized_grammar += f\"\\n{newrule}\"\n",
        "                    existing_terms[tok] = name\n",
        "                replacement_rule += name\n",
        "\n",
        "            # Close the list of terminals\n",
        "            replacement_rule += \")\"\n",
        "\n",
        "            # Update the terminal with the tokens\n",
        "            tokenized_grammar = tokenized_grammar.replace(\"\\\"\" + term + \"\\\"\",  replacement_rule)\n",
        "\n",
        "        tokenized_grammar += \"\\n%ignore \\\" \\\"\"\n",
        "        return tokenized_grammar\n",
        "\n",
        "    def next_tokens(self, tokens):\n",
        "        \"\"\"Get the next tokens.\"\"\"\n",
        "        string_tokens = ' '.join([str(t) for t in tokens])\n",
        "        interactive = self.token_parser.parse_interactive(string_tokens)\n",
        "        interactive.exhaust_lexer()\n",
        "        return [self.terminal_lookup[acc] for acc in interactive.accepts()]\n",
        "\n",
        "# noqa: E501\n",
        "GRAMMAR = r\"\"\"\n",
        "?start: action\n",
        "action: operation done\n",
        "\n",
        "done: \" [e]\"\n",
        "\n",
        "operation: off | inoff\n",
        "\n",
        "inoff: \" REFUTED\"\n",
        "\n",
        "off: \" SUPPORTED\"\n",
        "\"\"\""
      ],
      "metadata": {
        "id": "RrAwXZyV2_at"
      },
      "execution_count": 25,
      "outputs": []
    },
    {
      "cell_type": "code",
      "source": [
        "torch.cuda.empty_cache()"
      ],
      "metadata": {
        "id": "JBu0hkeyPcen"
      },
      "execution_count": 48,
      "outputs": []
    },
    {
      "cell_type": "code",
      "source": [
        "prompt = \"Tell me about AI\"\n",
        "prompt_template=f'''\n",
        "Each 3 items in the following list contains the claims, evidence and prediction. Your task is to make the prediction as one of the labels: REFUTED, SUPPORTED.\n",
        "\n",
        "claim: {claims[0]}\n",
        "evidence: {evidence[0]}\n",
        "prediction: {labels[0]}\n",
        "\n",
        "claim: {claims[2]}\n",
        "evidence: {evidence[2]}\n",
        "prediction: {labels[2]}\n",
        "\n",
        "claim: {claims[3]}\n",
        "evidence: {evidence[3]}\n",
        "prediction: {labels[3]}\n",
        "\n",
        "claim: {claims[1]}\n",
        "evidence: {evidence[1]}\n",
        "prediction:\n",
        "\n",
        "\n",
        "'''\n",
        "\n",
        "print(\"\\n\\n*** Generate:\")\n",
        "\n",
        "input_ids = tokenizer(prompt_template, return_tensors='pt').input_ids.cuda()\n",
        "\n",
        "tokenizer.pad_token = tokenizer.eos_token\n",
        "model.config.pad_token_id = model.config.eos_token_id\n",
        "\n",
        "parser = GuidedParser(GRAMMAR, tokenizer, model=\"gpt\", eos_token=tokenizer.encode(\" [e]\")[-1])\n",
        "guided_preprocessor = GuidedDecodingLogitsProcessor(parser, input_ids.shape[1])\n",
        "\n",
        "generation = model.greedy_search(input_ids, logits_processor=guided_preprocessor,\n",
        "                                         pad_token_id=model.config.pad_token_id, eos_token_id=parser.eos_token)\n",
        "\n",
        "# output = model.generate(inputs=input_ids, temperature=0.7, do_sample=True, top_p=0.95, max_new_tokens=)\n",
        "print(\"output:\",tokenizer.decode(generation[0]))"
      ],
      "metadata": {
        "colab": {
          "base_uri": "https://localhost:8080/"
        },
        "id": "J3DcwBOwr5Ap",
        "outputId": "d1d163d1-e5c2-4c59-9cda-50a9540948b5"
      },
      "execution_count": 28,
      "outputs": [
        {
          "output_type": "stream",
          "name": "stdout",
          "text": [
            "\n",
            "\n",
            "*** Generate:\n"
          ]
        },
        {
          "output_type": "stream",
          "name": "stderr",
          "text": [
            "100%|██████████| 3/3 [00:00<00:00, 2727.71it/s]\n"
          ]
        },
        {
          "output_type": "stream",
          "name": "stdout",
          "text": [
            "output: <s> \n",
            "Each 3 items in the following list contains the claims, evidence and prediction. Your task is to make the prediction as one of the labels: REFUTED, SUPPORTED.\n",
            "\n",
            "claim: Measuring sars-cov-2 neutralizing antibody activity using pseudotyped and chimeric viruses\n",
            "evidence: In Pfizers trial, all four participants who experienced Bells palsy received the vaccine.\n",
            "prediction: SUPPORTED\n",
            "\n",
            "claim: Measuring aces-cov-2 neutralizing antibody activity using pseudotyped and chimeric viruses\n",
            "evidence: As the United Kingdom began administering people with the Pfizer-BioNTech vaccine, four people who got Pfizer's coronavirus vaccine in the firm's trial developed Bell's palsy, a form of temporary facial paralysis, according to US regulators' report on the shot.\n",
            "prediction: REFUTED\n",
            "\n",
            "claim: Measuring gps-cov-2 neutralizing antibody activity using pseudotyped and chimeric viruses\n",
            "evidence: Ill go on to say there were deaths in the trial and none of them were linked to the vaccine. To be clear, four participants in the Pfizer vaccine trial and four participants in Modernas trial did experience Bells palsy.\n",
            "prediction: REFUTED\n",
            "\n",
            "claim: Measuring chs-cov-2 neutralizing antibody activity using pseudotyped and chimeric viruses\n",
            "evidence: These are 3 of the 4 volunteers who developed Bells palsy after being vaccinated with the Pfizer (SIC) covid experimental vaccine.\n",
            "prediction:\n",
            "\n",
            "\n",
            "<s>  SUPPORTED<s>  [e]\n"
          ]
        }
      ]
    },
    {
      "cell_type": "code",
      "source": [
        "print(tokenizer.decode(generation[0]).split(prompt_template))\n",
        "print(tokenizer.decode(generation[0]).split(prompt_template)[1].split(\" \")[2].split(\"<s>\")[0])"
      ],
      "metadata": {
        "colab": {
          "base_uri": "https://localhost:8080/"
        },
        "id": "MTNiUwvH3uWv",
        "outputId": "f3e8faaa-70d9-4c69-9fc6-ffad86fb6822"
      },
      "execution_count": 29,
      "outputs": [
        {
          "output_type": "stream",
          "name": "stdout",
          "text": [
            "['<s> ', '<s>  SUPPORTED<s>  [e]']\n",
            "SUPPORTED\n"
          ]
        }
      ]
    },
    {
      "cell_type": "markdown",
      "source": [
        "# Feature Attribution"
      ],
      "metadata": {
        "id": "ESinKaS5WsT4"
      }
    },
    {
      "cell_type": "code",
      "source": [
        "import inseq\n",
        "inseq_model = inseq.load_model(model, \"attention\")"
      ],
      "metadata": {
        "id": "Ytyn5RW9LrC4"
      },
      "execution_count": 43,
      "outputs": []
    },
    {
      "cell_type": "code",
      "source": [
        "out = inseq_model.attribute(\n",
        "    input_texts=f\"Evidence: {evidences[1]}. Claims: {claims[1]}. Prediction:\",\n",
        "    generated_texts=f\"Evidence: {evidences[1]}. Claims: {claims[1]}. Prediction: SUPPORTED\",\n",
        "    n_steps=50,\n",
        "    internal_batch_size=1\n",
        ")\n",
        "res = out.aggregate()\n",
        "attribution = res.sequence_attributions[0].target_attributions[:, 0].tolist()\n",
        "temp_idx = np.where(np.isnan(attribution))[0][0] - 1\n",
        "\n",
        "attribution = attribution[:temp_idx]"
      ],
      "metadata": {
        "colab": {
          "base_uri": "https://localhost:8080/"
        },
        "id": "OCQaeKlJMD36",
        "outputId": "b119b155-dcec-489e-d03e-4f02fd7d1c69"
      },
      "execution_count": 46,
      "outputs": [
        {
          "output_type": "stream",
          "name": "stderr",
          "text": [
            "WARNING:inseq.attr.feat.attribution_utils:Unused arguments during attribution: {'n_steps': 50, 'internal_batch_size': 1}\n",
            "Attributing with attention...: 100%|██████████| 207/207 [00:01<00:00,  3.78it/s]\n"
          ]
        }
      ]
    },
    {
      "cell_type": "code",
      "source": [
        "out.show()"
      ],
      "metadata": {
        "colab": {
          "base_uri": "https://localhost:8080/",
          "height": 1000
        },
        "id": "5Tl9o6F0RzRM",
        "outputId": "c70f748c-8d70-4b53-d29d-c226081b69fd"
      },
      "execution_count": 47,
      "outputs": [
        {
          "output_type": "display_data",
          "data": {
            "text/plain": [
              "<IPython.core.display.HTML object>"
            ],
            "text/html": [
              "<br/><b>0th instance:</b><br/>\n",
              "<html>\n",
              "<div id=\"saysgoxjrzgwgcodkqeo_viz_container\">\n",
              "    <div id=\"saysgoxjrzgwgcodkqeo_content\" style=\"padding:15px;border-style:solid;margin:5px;\">\n",
              "        <div id = \"saysgoxjrzgwgcodkqeo_saliency_plot_container\" class=\"saysgoxjrzgwgcodkqeo_viz_container\" style=\"display:block\">\n",
              "            \n",
              "<div id=\"icccorbqyqneknapvnev_saliency_plot\" class=\"icccorbqyqneknapvnev_viz_content\">\n",
              "    <div style=\"margin:5px;font-family:sans-serif;font-weight:bold;\">\n",
              "        <span style=\"font-size: 20px;\">Target Saliency Heatmap</span>\n",
              "        <br>\n",
              "        x: Generated tokens, y: Attributed tokens\n",
              "    </div>\n",
              "    \n",
              "<table border=\"1\" cellpadding=\"5\" cellspacing=\"5\"\n",
              "    style=\"overflow-x:scroll;display:block;\">\n",
              "    <tr><th></th>\n",
              "<th>▁S</th><th>UP</th><th>PORT</th><th>ED</th></tr><tr><th>&lt;s&gt;</th><th style=\"background:rgba(255.0, 13.0, 87.0, 0.8186967716379481)\">0.352</th><th style=\"background:rgba(255.0, 13.0, 87.0, 0.8265795206971679)\">0.357</th><th style=\"background:rgba(255.0, 13.0, 87.0, 1.0)\">0.432</th><th style=\"background:rgba(255.0, 13.0, 87.0, 0.976351752822341)\">0.42</th></tr><tr><th>▁Ev</th><th style=\"background:rgba(230.2941176470614, 26.505882352939775, 102.59215686274348, 0.0)\">0.003</th><th style=\"background:rgba(230.2941176470614, 26.505882352939775, 102.59215686274348, 0.0)\">0.002</th><th style=\"background:rgba(230.2941176470614, 26.505882352939775, 102.59215686274348, 0.0)\">0.002</th><th style=\"background:rgba(230.2941176470614, 26.505882352939775, 102.59215686274348, 0.0)\">0.002</th></tr><tr><th>idence</th><th style=\"background:rgba(230.2941176470614, 26.505882352939775, 102.59215686274348, 0.0)\">0.002</th><th style=\"background:rgba(230.2941176470614, 26.505882352939775, 102.59215686274348, 0.0)\">0.002</th><th style=\"background:rgba(230.2941176470614, 26.505882352939775, 102.59215686274348, 0.0)\">0.001</th><th style=\"background:rgba(230.2941176470614, 26.505882352939775, 102.59215686274348, 0.0)\">0.002</th></tr><tr><th>:</th><th style=\"background:rgba(255.0, 13.0, 87.0, 0.00677361853832443)\">0.005</th><th style=\"background:rgba(230.2941176470614, 26.505882352939775, 102.59215686274348, 0.0)\">0.002</th><th style=\"background:rgba(230.2941176470614, 26.505882352939775, 102.59215686274348, 0.0)\">0.002</th><th style=\"background:rgba(230.2941176470614, 26.505882352939775, 102.59215686274348, 0.0)\">0.003</th></tr><tr><th>▁While</th><th style=\"background:rgba(255.0, 13.0, 87.0, 0.00677361853832443)\">0.004</th><th style=\"background:rgba(230.2941176470614, 26.505882352939775, 102.59215686274348, 0.0)\">0.001</th><th style=\"background:rgba(230.2941176470614, 26.505882352939775, 102.59215686274348, 0.0)\">0.001</th><th style=\"background:rgba(230.2941176470614, 26.505882352939775, 102.59215686274348, 0.0)\">0.001</th></tr><tr><th>▁each</th><th style=\"background:rgba(230.2941176470614, 26.505882352939775, 102.59215686274348, 0.0)\">0.001</th><th style=\"background:rgba(230.2941176470614, 26.505882352939775, 102.59215686274348, 0.0)\">0.001</th><th style=\"background:rgba(230.2941176470614, 26.505882352939775, 102.59215686274348, 0.0)\">0.0</th><th style=\"background:rgba(230.2941176470614, 26.505882352939775, 102.59215686274348, 0.0)\">0.001</th></tr><tr><th>▁sur</th><th style=\"background:rgba(230.2941176470614, 26.505882352939775, 102.59215686274348, 0.0)\">0.001</th><th style=\"background:rgba(230.2941176470614, 26.505882352939775, 102.59215686274348, 0.0)\">0.001</th><th style=\"background:rgba(230.2941176470614, 26.505882352939775, 102.59215686274348, 0.0)\">0.001</th><th style=\"background:rgba(230.2941176470614, 26.505882352939775, 102.59215686274348, 0.0)\">0.0</th></tr><tr><th>rog</th><th style=\"background:rgba(230.2941176470614, 26.505882352939775, 102.59215686274348, 0.0)\">0.001</th><th style=\"background:rgba(230.2941176470614, 26.505882352939775, 102.59215686274348, 0.0)\">0.002</th><th style=\"background:rgba(230.2941176470614, 26.505882352939775, 102.59215686274348, 0.0)\">0.001</th><th style=\"background:rgba(230.2941176470614, 26.505882352939775, 102.59215686274348, 0.0)\">0.001</th></tr><tr><th>ate</th><th style=\"background:rgba(230.2941176470614, 26.505882352939775, 102.59215686274348, 0.0)\">0.001</th><th style=\"background:rgba(230.2941176470614, 26.505882352939775, 102.59215686274348, 0.0)\">0.001</th><th style=\"background:rgba(230.2941176470614, 26.505882352939775, 102.59215686274348, 0.0)\">0.001</th><th style=\"background:rgba(230.2941176470614, 26.505882352939775, 102.59215686274348, 0.0)\">0.001</th></tr><tr><th>▁virus</th><th style=\"background:rgba(230.2941176470614, 26.505882352939775, 102.59215686274348, 0.0)\">0.001</th><th style=\"background:rgba(230.2941176470614, 26.505882352939775, 102.59215686274348, 0.0)\">0.001</th><th style=\"background:rgba(230.2941176470614, 26.505882352939775, 102.59215686274348, 0.0)\">0.001</th><th style=\"background:rgba(230.2941176470614, 26.505882352939775, 102.59215686274348, 0.0)\">0.001</th></tr><tr><th>▁exhib</th><th style=\"background:rgba(230.2941176470614, 26.505882352939775, 102.59215686274348, 0.0)\">0.001</th><th style=\"background:rgba(230.2941176470614, 26.505882352939775, 102.59215686274348, 0.0)\">0.001</th><th style=\"background:rgba(230.2941176470614, 26.505882352939775, 102.59215686274348, 0.0)\">0.001</th><th style=\"background:rgba(230.2941176470614, 26.505882352939775, 102.59215686274348, 0.0)\">0.001</th></tr><tr><th>ited</th><th style=\"background:rgba(230.2941176470614, 26.505882352939775, 102.59215686274348, 0.0)\">0.001</th><th style=\"background:rgba(230.2941176470614, 26.505882352939775, 102.59215686274348, 0.0)\">0.001</th><th style=\"background:rgba(230.2941176470614, 26.505882352939775, 102.59215686274348, 0.0)\">0.001</th><th style=\"background:rgba(230.2941176470614, 26.505882352939775, 102.59215686274348, 0.0)\">0.001</th></tr><tr><th>▁subt</th><th style=\"background:rgba(230.2941176470614, 26.505882352939775, 102.59215686274348, 0.0)\">0.001</th><th style=\"background:rgba(230.2941176470614, 26.505882352939775, 102.59215686274348, 0.0)\">0.001</th><th style=\"background:rgba(230.2941176470614, 26.505882352939775, 102.59215686274348, 0.0)\">0.001</th><th style=\"background:rgba(230.2941176470614, 26.505882352939775, 102.59215686274348, 0.0)\">0.0</th></tr><tr><th>le</th><th style=\"background:rgba(230.2941176470614, 26.505882352939775, 102.59215686274348, 0.0)\">0.001</th><th style=\"background:rgba(230.2941176470614, 26.505882352939775, 102.59215686274348, 0.0)\">0.001</th><th style=\"background:rgba(230.2941176470614, 26.505882352939775, 102.59215686274348, 0.0)\">0.001</th><th style=\"background:rgba(230.2941176470614, 26.505882352939775, 102.59215686274348, 0.0)\">0.0</th></tr><tr><th>▁differences</th><th style=\"background:rgba(230.2941176470614, 26.505882352939775, 102.59215686274348, 0.0)\">0.001</th><th style=\"background:rgba(230.2941176470614, 26.505882352939775, 102.59215686274348, 0.0)\">0.001</th><th style=\"background:rgba(230.2941176470614, 26.505882352939775, 102.59215686274348, 0.0)\">0.001</th><th style=\"background:rgba(230.2941176470614, 26.505882352939775, 102.59215686274348, 0.0)\">0.0</th></tr><tr><th>▁in</th><th style=\"background:rgba(230.2941176470614, 26.505882352939775, 102.59215686274348, 0.0)\">0.001</th><th style=\"background:rgba(230.2941176470614, 26.505882352939775, 102.59215686274348, 0.0)\">0.001</th><th style=\"background:rgba(230.2941176470614, 26.505882352939775, 102.59215686274348, 0.0)\">0.001</th><th style=\"background:rgba(230.2941176470614, 26.505882352939775, 102.59215686274348, 0.0)\">0.001</th></tr><tr><th>▁the</th><th style=\"background:rgba(230.2941176470614, 26.505882352939775, 102.59215686274348, 0.0)\">0.001</th><th style=\"background:rgba(230.2941176470614, 26.505882352939775, 102.59215686274348, 0.0)\">0.001</th><th style=\"background:rgba(230.2941176470614, 26.505882352939775, 102.59215686274348, 0.0)\">0.002</th><th style=\"background:rgba(230.2941176470614, 26.505882352939775, 102.59215686274348, 0.0)\">0.001</th></tr><tr><th>▁sens</th><th style=\"background:rgba(230.2941176470614, 26.505882352939775, 102.59215686274348, 0.0)\">0.001</th><th style=\"background:rgba(230.2941176470614, 26.505882352939775, 102.59215686274348, 0.0)\">0.001</th><th style=\"background:rgba(230.2941176470614, 26.505882352939775, 102.59215686274348, 0.0)\">0.0</th><th style=\"background:rgba(230.2941176470614, 26.505882352939775, 102.59215686274348, 0.0)\">0.0</th></tr><tr><th>itivity</th><th style=\"background:rgba(230.2941176470614, 26.505882352939775, 102.59215686274348, 0.0)\">0.001</th><th style=\"background:rgba(230.2941176470614, 26.505882352939775, 102.59215686274348, 0.0)\">0.001</th><th style=\"background:rgba(230.2941176470614, 26.505882352939775, 102.59215686274348, 0.0)\">0.001</th><th style=\"background:rgba(230.2941176470614, 26.505882352939775, 102.59215686274348, 0.0)\">0.001</th></tr><tr><th>▁with</th><th style=\"background:rgba(230.2941176470614, 26.505882352939775, 102.59215686274348, 0.0)\">0.001</th><th style=\"background:rgba(230.2941176470614, 26.505882352939775, 102.59215686274348, 0.0)\">0.001</th><th style=\"background:rgba(230.2941176470614, 26.505882352939775, 102.59215686274348, 0.0)\">0.001</th><th style=\"background:rgba(230.2941176470614, 26.505882352939775, 102.59215686274348, 0.0)\">0.001</th></tr><tr><th>▁which</th><th style=\"background:rgba(230.2941176470614, 26.505882352939775, 102.59215686274348, 0.0)\">0.001</th><th style=\"background:rgba(230.2941176470614, 26.505882352939775, 102.59215686274348, 0.0)\">0.001</th><th style=\"background:rgba(230.2941176470614, 26.505882352939775, 102.59215686274348, 0.0)\">0.001</th><th style=\"background:rgba(230.2941176470614, 26.505882352939775, 102.59215686274348, 0.0)\">0.001</th></tr><tr><th>▁neutral</th><th style=\"background:rgba(230.2941176470614, 26.505882352939775, 102.59215686274348, 0.0)\">0.001</th><th style=\"background:rgba(230.2941176470614, 26.505882352939775, 102.59215686274348, 0.0)\">0.001</th><th style=\"background:rgba(230.2941176470614, 26.505882352939775, 102.59215686274348, 0.0)\">0.001</th><th style=\"background:rgba(230.2941176470614, 26.505882352939775, 102.59215686274348, 0.0)\">0.0</th></tr><tr><th>izing</th><th style=\"background:rgba(230.2941176470614, 26.505882352939775, 102.59215686274348, 0.0)\">0.001</th><th style=\"background:rgba(230.2941176470614, 26.505882352939775, 102.59215686274348, 0.0)\">0.001</th><th style=\"background:rgba(230.2941176470614, 26.505882352939775, 102.59215686274348, 0.0)\">0.001</th><th style=\"background:rgba(230.2941176470614, 26.505882352939775, 102.59215686274348, 0.0)\">0.001</th></tr><tr><th>▁activity</th><th style=\"background:rgba(230.2941176470614, 26.505882352939775, 102.59215686274348, 0.0)\">0.001</th><th style=\"background:rgba(230.2941176470614, 26.505882352939775, 102.59215686274348, 0.0)\">0.001</th><th style=\"background:rgba(230.2941176470614, 26.505882352939775, 102.59215686274348, 0.0)\">0.001</th><th style=\"background:rgba(230.2941176470614, 26.505882352939775, 102.59215686274348, 0.0)\">0.001</th></tr><tr><th>▁was</th><th style=\"background:rgba(230.2941176470614, 26.505882352939775, 102.59215686274348, 0.0)\">0.001</th><th style=\"background:rgba(230.2941176470614, 26.505882352939775, 102.59215686274348, 0.0)\">0.001</th><th style=\"background:rgba(230.2941176470614, 26.505882352939775, 102.59215686274348, 0.0)\">0.001</th><th style=\"background:rgba(230.2941176470614, 26.505882352939775, 102.59215686274348, 0.0)\">0.001</th></tr><tr><th>▁detected</th><th style=\"background:rgba(230.2941176470614, 26.505882352939775, 102.59215686274348, 0.0)\">0.002</th><th style=\"background:rgba(230.2941176470614, 26.505882352939775, 102.59215686274348, 0.0)\">0.001</th><th style=\"background:rgba(230.2941176470614, 26.505882352939775, 102.59215686274348, 0.0)\">0.001</th><th style=\"background:rgba(230.2941176470614, 26.505882352939775, 102.59215686274348, 0.0)\">0.001</th></tr><tr><th>,</th><th style=\"background:rgba(230.2941176470614, 26.505882352939775, 102.59215686274348, 0.0)\">0.003</th><th style=\"background:rgba(230.2941176470614, 26.505882352939775, 102.59215686274348, 0.0)\">0.003</th><th style=\"background:rgba(230.2941176470614, 26.505882352939775, 102.59215686274348, 0.0)\">0.002</th><th style=\"background:rgba(230.2941176470614, 26.505882352939775, 102.59215686274348, 0.0)\">0.002</th></tr><tr><th>▁the</th><th style=\"background:rgba(230.2941176470614, 26.505882352939775, 102.59215686274348, 0.0)\">0.002</th><th style=\"background:rgba(230.2941176470614, 26.505882352939775, 102.59215686274348, 0.0)\">0.001</th><th style=\"background:rgba(230.2941176470614, 26.505882352939775, 102.59215686274348, 0.0)\">0.001</th><th style=\"background:rgba(230.2941176470614, 26.505882352939775, 102.59215686274348, 0.0)\">0.001</th></tr><tr><th>▁neutral</th><th style=\"background:rgba(230.2941176470614, 26.505882352939775, 102.59215686274348, 0.0)\">0.002</th><th style=\"background:rgba(230.2941176470614, 26.505882352939775, 102.59215686274348, 0.0)\">0.001</th><th style=\"background:rgba(230.2941176470614, 26.505882352939775, 102.59215686274348, 0.0)\">0.001</th><th style=\"background:rgba(230.2941176470614, 26.505882352939775, 102.59215686274348, 0.0)\">0.0</th></tr><tr><th>izing</th><th style=\"background:rgba(230.2941176470614, 26.505882352939775, 102.59215686274348, 0.0)\">0.0</th><th style=\"background:rgba(230.2941176470614, 26.505882352939775, 102.59215686274348, 0.0)\">0.001</th><th style=\"background:rgba(230.2941176470614, 26.505882352939775, 102.59215686274348, 0.0)\">0.001</th><th style=\"background:rgba(230.2941176470614, 26.505882352939775, 102.59215686274348, 0.0)\">0.0</th></tr><tr><th>▁activity</th><th style=\"background:rgba(230.2941176470614, 26.505882352939775, 102.59215686274348, 0.0)\">0.001</th><th style=\"background:rgba(230.2941176470614, 26.505882352939775, 102.59215686274348, 0.0)\">0.001</th><th style=\"background:rgba(230.2941176470614, 26.505882352939775, 102.59215686274348, 0.0)\">0.0</th><th style=\"background:rgba(230.2941176470614, 26.505882352939775, 102.59215686274348, 0.0)\">0.0</th></tr><tr><th>▁of</th><th style=\"background:rgba(230.2941176470614, 26.505882352939775, 102.59215686274348, 0.0)\">0.001</th><th style=\"background:rgba(230.2941176470614, 26.505882352939775, 102.59215686274348, 0.0)\">0.001</th><th style=\"background:rgba(230.2941176470614, 26.505882352939775, 102.59215686274348, 0.0)\">0.001</th><th style=\"background:rgba(230.2941176470614, 26.505882352939775, 102.59215686274348, 0.0)\">0.001</th></tr><tr><th>▁both</th><th style=\"background:rgba(230.2941176470614, 26.505882352939775, 102.59215686274348, 0.0)\">0.001</th><th style=\"background:rgba(230.2941176470614, 26.505882352939775, 102.59215686274348, 0.0)\">0.001</th><th style=\"background:rgba(230.2941176470614, 26.505882352939775, 102.59215686274348, 0.0)\">0.0</th><th style=\"background:rgba(230.2941176470614, 26.505882352939775, 102.59215686274348, 0.0)\">0.0</th></tr><tr><th>▁con</th><th style=\"background:rgba(230.2941176470614, 26.505882352939775, 102.59215686274348, 0.0)\">0.001</th><th style=\"background:rgba(230.2941176470614, 26.505882352939775, 102.59215686274348, 0.0)\">0.0</th><th style=\"background:rgba(230.2941176470614, 26.505882352939775, 102.59215686274348, 0.0)\">0.0</th><th style=\"background:rgba(230.2941176470614, 26.505882352939775, 102.59215686274348, 0.0)\">0.0</th></tr><tr><th>val</th><th style=\"background:rgba(230.2941176470614, 26.505882352939775, 102.59215686274348, 0.0)\">0.001</th><th style=\"background:rgba(230.2941176470614, 26.505882352939775, 102.59215686274348, 0.0)\">0.001</th><th style=\"background:rgba(230.2941176470614, 26.505882352939775, 102.59215686274348, 0.0)\">0.001</th><th style=\"background:rgba(230.2941176470614, 26.505882352939775, 102.59215686274348, 0.0)\">0.0</th></tr><tr><th>es</th><th style=\"background:rgba(230.2941176470614, 26.505882352939775, 102.59215686274348, 0.0)\">0.0</th><th style=\"background:rgba(230.2941176470614, 26.505882352939775, 102.59215686274348, 0.0)\">0.0</th><th style=\"background:rgba(230.2941176470614, 26.505882352939775, 102.59215686274348, 0.0)\">0.0</th><th style=\"background:rgba(230.2941176470614, 26.505882352939775, 102.59215686274348, 0.0)\">0.0</th></tr><tr><th>cent</th><th style=\"background:rgba(230.2941176470614, 26.505882352939775, 102.59215686274348, 0.0)\">0.001</th><th style=\"background:rgba(230.2941176470614, 26.505882352939775, 102.59215686274348, 0.0)\">0.001</th><th style=\"background:rgba(230.2941176470614, 26.505882352939775, 102.59215686274348, 0.0)\">0.001</th><th style=\"background:rgba(230.2941176470614, 26.505882352939775, 102.59215686274348, 0.0)\">0.0</th></tr><tr><th>▁pl</th><th style=\"background:rgba(230.2941176470614, 26.505882352939775, 102.59215686274348, 0.0)\">0.0</th><th style=\"background:rgba(230.2941176470614, 26.505882352939775, 102.59215686274348, 0.0)\">0.0</th><th style=\"background:rgba(230.2941176470614, 26.505882352939775, 102.59215686274348, 0.0)\">0.0</th><th style=\"background:rgba(230.2941176470614, 26.505882352939775, 102.59215686274348, 0.0)\">0.0</th></tr><tr><th>asma</th><th style=\"background:rgba(230.2941176470614, 26.505882352939775, 102.59215686274348, 0.0)\">0.001</th><th style=\"background:rgba(230.2941176470614, 26.505882352939775, 102.59215686274348, 0.0)\">0.002</th><th style=\"background:rgba(230.2941176470614, 26.505882352939775, 102.59215686274348, 0.0)\">0.001</th><th style=\"background:rgba(230.2941176470614, 26.505882352939775, 102.59215686274348, 0.0)\">0.001</th></tr><tr><th>▁and</th><th style=\"background:rgba(230.2941176470614, 26.505882352939775, 102.59215686274348, 0.0)\">0.001</th><th style=\"background:rgba(230.2941176470614, 26.505882352939775, 102.59215686274348, 0.0)\">0.002</th><th style=\"background:rgba(230.2941176470614, 26.505882352939775, 102.59215686274348, 0.0)\">0.001</th><th style=\"background:rgba(230.2941176470614, 26.505882352939775, 102.59215686274348, 0.0)\">0.001</th></tr><tr><th>▁human</th><th style=\"background:rgba(230.2941176470614, 26.505882352939775, 102.59215686274348, 0.0)\">0.001</th><th style=\"background:rgba(230.2941176470614, 26.505882352939775, 102.59215686274348, 0.0)\">0.001</th><th style=\"background:rgba(230.2941176470614, 26.505882352939775, 102.59215686274348, 0.0)\">0.0</th><th style=\"background:rgba(230.2941176470614, 26.505882352939775, 102.59215686274348, 0.0)\">0.0</th></tr><tr><th>▁mon</th><th style=\"background:rgba(230.2941176470614, 26.505882352939775, 102.59215686274348, 0.0)\">0.0</th><th style=\"background:rgba(230.2941176470614, 26.505882352939775, 102.59215686274348, 0.0)\">0.0</th><th style=\"background:rgba(230.2941176470614, 26.505882352939775, 102.59215686274348, 0.0)\">0.0</th><th style=\"background:rgba(230.2941176470614, 26.505882352939775, 102.59215686274348, 0.0)\">0.0</th></tr><tr><th>oc</th><th style=\"background:rgba(230.2941176470614, 26.505882352939775, 102.59215686274348, 0.0)\">0.0</th><th style=\"background:rgba(230.2941176470614, 26.505882352939775, 102.59215686274348, 0.0)\">0.0</th><th style=\"background:rgba(230.2941176470614, 26.505882352939775, 102.59215686274348, 0.0)\">0.0</th><th style=\"background:rgba(230.2941176470614, 26.505882352939775, 102.59215686274348, 0.0)\">0.0</th></tr><tr><th>l</th><th style=\"background:rgba(255.0, 13.0, 87.0, 0.02253911665676371)\">0.012</th><th style=\"background:rgba(255.0, 13.0, 87.0, 0.02253911665676371)\">0.011</th><th style=\"background:rgba(255.0, 13.0, 87.0, 0.014656367597544035)\">0.007</th><th style=\"background:rgba(255.0, 13.0, 87.0, 0.014656367597544035)\">0.008</th></tr><tr><th>onal</th><th style=\"background:rgba(230.2941176470614, 26.505882352939775, 102.59215686274348, 0.0)\">0.001</th><th style=\"background:rgba(230.2941176470614, 26.505882352939775, 102.59215686274348, 0.0)\">0.001</th><th style=\"background:rgba(230.2941176470614, 26.505882352939775, 102.59215686274348, 0.0)\">0.001</th><th style=\"background:rgba(230.2941176470614, 26.505882352939775, 102.59215686274348, 0.0)\">0.0</th></tr><tr><th>▁ant</th><th style=\"background:rgba(230.2941176470614, 26.505882352939775, 102.59215686274348, 0.0)\">0.0</th><th style=\"background:rgba(230.2941176470614, 26.505882352939775, 102.59215686274348, 0.0)\">0.0</th><th style=\"background:rgba(230.2941176470614, 26.505882352939775, 102.59215686274348, 0.0)\">0.0</th><th style=\"background:rgba(230.2941176470614, 26.505882352939775, 102.59215686274348, 0.0)\">0.0</th></tr><tr><th>ib</th><th style=\"background:rgba(230.2941176470614, 26.505882352939775, 102.59215686274348, 0.0)\">0.001</th><th style=\"background:rgba(230.2941176470614, 26.505882352939775, 102.59215686274348, 0.0)\">0.001</th><th style=\"background:rgba(230.2941176470614, 26.505882352939775, 102.59215686274348, 0.0)\">0.001</th><th style=\"background:rgba(230.2941176470614, 26.505882352939775, 102.59215686274348, 0.0)\">0.0</th></tr><tr><th>od</th><th style=\"background:rgba(230.2941176470614, 26.505882352939775, 102.59215686274348, 0.0)\">0.001</th><th style=\"background:rgba(230.2941176470614, 26.505882352939775, 102.59215686274348, 0.0)\">0.001</th><th style=\"background:rgba(230.2941176470614, 26.505882352939775, 102.59215686274348, 0.0)\">0.001</th><th style=\"background:rgba(230.2941176470614, 26.505882352939775, 102.59215686274348, 0.0)\">0.001</th></tr><tr><th>ies</th><th style=\"background:rgba(230.2941176470614, 26.505882352939775, 102.59215686274348, 0.0)\">0.001</th><th style=\"background:rgba(230.2941176470614, 26.505882352939775, 102.59215686274348, 0.0)\">0.001</th><th style=\"background:rgba(230.2941176470614, 26.505882352939775, 102.59215686274348, 0.0)\">0.001</th><th style=\"background:rgba(230.2941176470614, 26.505882352939775, 102.59215686274348, 0.0)\">0.0</th></tr><tr><th>▁measured</th><th style=\"background:rgba(230.2941176470614, 26.505882352939775, 102.59215686274348, 0.0)\">0.001</th><th style=\"background:rgba(230.2941176470614, 26.505882352939775, 102.59215686274348, 0.0)\">0.001</th><th style=\"background:rgba(230.2941176470614, 26.505882352939775, 102.59215686274348, 0.0)\">0.001</th><th style=\"background:rgba(230.2941176470614, 26.505882352939775, 102.59215686274348, 0.0)\">0.0</th></tr><tr><th>▁using</th><th style=\"background:rgba(230.2941176470614, 26.505882352939775, 102.59215686274348, 0.0)\">0.001</th><th style=\"background:rgba(230.2941176470614, 26.505882352939775, 102.59215686274348, 0.0)\">0.001</th><th style=\"background:rgba(230.2941176470614, 26.505882352939775, 102.59215686274348, 0.0)\">0.001</th><th style=\"background:rgba(230.2941176470614, 26.505882352939775, 102.59215686274348, 0.0)\">0.001</th></tr><tr><th>▁each</th><th style=\"background:rgba(230.2941176470614, 26.505882352939775, 102.59215686274348, 0.0)\">0.001</th><th style=\"background:rgba(230.2941176470614, 26.505882352939775, 102.59215686274348, 0.0)\">0.001</th><th style=\"background:rgba(230.2941176470614, 26.505882352939775, 102.59215686274348, 0.0)\">0.0</th><th style=\"background:rgba(230.2941176470614, 26.505882352939775, 102.59215686274348, 0.0)\">0.0</th></tr><tr><th>▁virus</th><th style=\"background:rgba(230.2941176470614, 26.505882352939775, 102.59215686274348, 0.0)\">0.001</th><th style=\"background:rgba(230.2941176470614, 26.505882352939775, 102.59215686274348, 0.0)\">0.001</th><th style=\"background:rgba(230.2941176470614, 26.505882352939775, 102.59215686274348, 0.0)\">0.001</th><th style=\"background:rgba(230.2941176470614, 26.505882352939775, 102.59215686274348, 0.0)\">0.0</th></tr><tr><th>▁correl</th><th style=\"background:rgba(230.2941176470614, 26.505882352939775, 102.59215686274348, 0.0)\">0.002</th><th style=\"background:rgba(230.2941176470614, 26.505882352939775, 102.59215686274348, 0.0)\">0.001</th><th style=\"background:rgba(230.2941176470614, 26.505882352939775, 102.59215686274348, 0.0)\">0.001</th><th style=\"background:rgba(230.2941176470614, 26.505882352939775, 102.59215686274348, 0.0)\">0.001</th></tr><tr><th>ated</th><th style=\"background:rgba(230.2941176470614, 26.505882352939775, 102.59215686274348, 0.0)\">0.002</th><th style=\"background:rgba(230.2941176470614, 26.505882352939775, 102.59215686274348, 0.0)\">0.002</th><th style=\"background:rgba(230.2941176470614, 26.505882352939775, 102.59215686274348, 0.0)\">0.001</th><th style=\"background:rgba(230.2941176470614, 26.505882352939775, 102.59215686274348, 0.0)\">0.001</th></tr><tr><th>▁quant</th><th style=\"background:rgba(230.2941176470614, 26.505882352939775, 102.59215686274348, 0.0)\">0.002</th><th style=\"background:rgba(230.2941176470614, 26.505882352939775, 102.59215686274348, 0.0)\">0.001</th><th style=\"background:rgba(230.2941176470614, 26.505882352939775, 102.59215686274348, 0.0)\">0.0</th><th style=\"background:rgba(230.2941176470614, 26.505882352939775, 102.59215686274348, 0.0)\">0.001</th></tr><tr><th>it</th><th style=\"background:rgba(230.2941176470614, 26.505882352939775, 102.59215686274348, 0.0)\">0.0</th><th style=\"background:rgba(230.2941176470614, 26.505882352939775, 102.59215686274348, 0.0)\">0.0</th><th style=\"background:rgba(230.2941176470614, 26.505882352939775, 102.59215686274348, 0.0)\">0.0</th><th style=\"background:rgba(230.2941176470614, 26.505882352939775, 102.59215686274348, 0.0)\">0.0</th></tr><tr><th>atively</th><th style=\"background:rgba(230.2941176470614, 26.505882352939775, 102.59215686274348, 0.0)\">0.002</th><th style=\"background:rgba(230.2941176470614, 26.505882352939775, 102.59215686274348, 0.0)\">0.001</th><th style=\"background:rgba(230.2941176470614, 26.505882352939775, 102.59215686274348, 0.0)\">0.0</th><th style=\"background:rgba(230.2941176470614, 26.505882352939775, 102.59215686274348, 0.0)\">0.001</th></tr><tr><th>▁with</th><th style=\"background:rgba(230.2941176470614, 26.505882352939775, 102.59215686274348, 0.0)\">0.001</th><th style=\"background:rgba(230.2941176470614, 26.505882352939775, 102.59215686274348, 0.0)\">0.002</th><th style=\"background:rgba(230.2941176470614, 26.505882352939775, 102.59215686274348, 0.0)\">0.001</th><th style=\"background:rgba(230.2941176470614, 26.505882352939775, 102.59215686274348, 0.0)\">0.001</th></tr><tr><th>▁neutral</th><th style=\"background:rgba(230.2941176470614, 26.505882352939775, 102.59215686274348, 0.0)\">0.001</th><th style=\"background:rgba(230.2941176470614, 26.505882352939775, 102.59215686274348, 0.0)\">0.0</th><th style=\"background:rgba(230.2941176470614, 26.505882352939775, 102.59215686274348, 0.0)\">0.0</th><th style=\"background:rgba(230.2941176470614, 26.505882352939775, 102.59215686274348, 0.0)\">0.0</th></tr><tr><th>izing</th><th style=\"background:rgba(230.2941176470614, 26.505882352939775, 102.59215686274348, 0.0)\">0.0</th><th style=\"background:rgba(230.2941176470614, 26.505882352939775, 102.59215686274348, 0.0)\">0.001</th><th style=\"background:rgba(230.2941176470614, 26.505882352939775, 102.59215686274348, 0.0)\">0.0</th><th style=\"background:rgba(230.2941176470614, 26.505882352939775, 102.59215686274348, 0.0)\">0.0</th></tr><tr><th>▁activity</th><th style=\"background:rgba(230.2941176470614, 26.505882352939775, 102.59215686274348, 0.0)\">0.001</th><th style=\"background:rgba(230.2941176470614, 26.505882352939775, 102.59215686274348, 0.0)\">0.001</th><th style=\"background:rgba(230.2941176470614, 26.505882352939775, 102.59215686274348, 0.0)\">0.0</th><th style=\"background:rgba(230.2941176470614, 26.505882352939775, 102.59215686274348, 0.0)\">0.0</th></tr><tr><th>▁measured</th><th style=\"background:rgba(230.2941176470614, 26.505882352939775, 102.59215686274348, 0.0)\">0.001</th><th style=\"background:rgba(230.2941176470614, 26.505882352939775, 102.59215686274348, 0.0)\">0.001</th><th style=\"background:rgba(230.2941176470614, 26.505882352939775, 102.59215686274348, 0.0)\">0.0</th><th style=\"background:rgba(230.2941176470614, 26.505882352939775, 102.59215686274348, 0.0)\">0.0</th></tr><tr><th>▁using</th><th style=\"background:rgba(230.2941176470614, 26.505882352939775, 102.59215686274348, 0.0)\">0.001</th><th style=\"background:rgba(230.2941176470614, 26.505882352939775, 102.59215686274348, 0.0)\">0.001</th><th style=\"background:rgba(230.2941176470614, 26.505882352939775, 102.59215686274348, 0.0)\">0.0</th><th style=\"background:rgba(230.2941176470614, 26.505882352939775, 102.59215686274348, 0.0)\">0.0</th></tr><tr><th>▁an</th><th style=\"background:rgba(230.2941176470614, 26.505882352939775, 102.59215686274348, 0.0)\">0.001</th><th style=\"background:rgba(230.2941176470614, 26.505882352939775, 102.59215686274348, 0.0)\">0.001</th><th style=\"background:rgba(230.2941176470614, 26.505882352939775, 102.59215686274348, 0.0)\">0.0</th><th style=\"background:rgba(230.2941176470614, 26.505882352939775, 102.59215686274348, 0.0)\">0.0</th></tr><tr><th>▁authentic</th><th style=\"background:rgba(230.2941176470614, 26.505882352939775, 102.59215686274348, 0.0)\">0.001</th><th style=\"background:rgba(230.2941176470614, 26.505882352939775, 102.59215686274348, 0.0)\">0.001</th><th style=\"background:rgba(230.2941176470614, 26.505882352939775, 102.59215686274348, 0.0)\">0.001</th><th style=\"background:rgba(230.2941176470614, 26.505882352939775, 102.59215686274348, 0.0)\">0.0</th></tr><tr><th>▁S</th><th style=\"background:rgba(230.2941176470614, 26.505882352939775, 102.59215686274348, 0.0)\">0.0</th><th style=\"background:rgba(230.2941176470614, 26.505882352939775, 102.59215686274348, 0.0)\">0.002</th><th style=\"background:rgba(230.2941176470614, 26.505882352939775, 102.59215686274348, 0.0)\">0.001</th><th style=\"background:rgba(230.2941176470614, 26.505882352939775, 102.59215686274348, 0.0)\">0.0</th></tr><tr><th>AR</th><th style=\"background:rgba(230.2941176470614, 26.505882352939775, 102.59215686274348, 0.0)\">0.001</th><th style=\"background:rgba(230.2941176470614, 26.505882352939775, 102.59215686274348, 0.0)\">0.003</th><th style=\"background:rgba(230.2941176470614, 26.505882352939775, 102.59215686274348, 0.0)\">0.001</th><th style=\"background:rgba(230.2941176470614, 26.505882352939775, 102.59215686274348, 0.0)\">0.0</th></tr><tr><th>S</th><th style=\"background:rgba(230.2941176470614, 26.505882352939775, 102.59215686274348, 0.0)\">0.001</th><th style=\"background:rgba(230.2941176470614, 26.505882352939775, 102.59215686274348, 0.0)\">0.003</th><th style=\"background:rgba(230.2941176470614, 26.505882352939775, 102.59215686274348, 0.0)\">0.001</th><th style=\"background:rgba(230.2941176470614, 26.505882352939775, 102.59215686274348, 0.0)\">0.001</th></tr><tr><th>-</th><th style=\"background:rgba(230.2941176470614, 26.505882352939775, 102.59215686274348, 0.0)\">0.001</th><th style=\"background:rgba(230.2941176470614, 26.505882352939775, 102.59215686274348, 0.0)\">0.001</th><th style=\"background:rgba(230.2941176470614, 26.505882352939775, 102.59215686274348, 0.0)\">0.001</th><th style=\"background:rgba(230.2941176470614, 26.505882352939775, 102.59215686274348, 0.0)\">0.001</th></tr><tr><th>Co</th><th style=\"background:rgba(230.2941176470614, 26.505882352939775, 102.59215686274348, 0.0)\">0.001</th><th style=\"background:rgba(230.2941176470614, 26.505882352939775, 102.59215686274348, 0.0)\">0.001</th><th style=\"background:rgba(230.2941176470614, 26.505882352939775, 102.59215686274348, 0.0)\">0.001</th><th style=\"background:rgba(230.2941176470614, 26.505882352939775, 102.59215686274348, 0.0)\">0.001</th></tr><tr><th>V</th><th style=\"background:rgba(230.2941176470614, 26.505882352939775, 102.59215686274348, 0.0)\">0.001</th><th style=\"background:rgba(230.2941176470614, 26.505882352939775, 102.59215686274348, 0.0)\">0.001</th><th style=\"background:rgba(230.2941176470614, 26.505882352939775, 102.59215686274348, 0.0)\">0.001</th><th style=\"background:rgba(230.2941176470614, 26.505882352939775, 102.59215686274348, 0.0)\">0.001</th></tr><tr><th>-</th><th style=\"background:rgba(230.2941176470614, 26.505882352939775, 102.59215686274348, 0.0)\">0.001</th><th style=\"background:rgba(230.2941176470614, 26.505882352939775, 102.59215686274348, 0.0)\">0.001</th><th style=\"background:rgba(230.2941176470614, 26.505882352939775, 102.59215686274348, 0.0)\">0.001</th><th style=\"background:rgba(230.2941176470614, 26.505882352939775, 102.59215686274348, 0.0)\">0.001</th></tr><tr><th>2</th><th style=\"background:rgba(230.2941176470614, 26.505882352939775, 102.59215686274348, 0.0)\">0.001</th><th style=\"background:rgba(230.2941176470614, 26.505882352939775, 102.59215686274348, 0.0)\">0.001</th><th style=\"background:rgba(230.2941176470614, 26.505882352939775, 102.59215686274348, 0.0)\">0.001</th><th style=\"background:rgba(230.2941176470614, 26.505882352939775, 102.59215686274348, 0.0)\">0.001</th></tr><tr><th>▁neutral</th><th style=\"background:rgba(230.2941176470614, 26.505882352939775, 102.59215686274348, 0.0)\">0.0</th><th style=\"background:rgba(230.2941176470614, 26.505882352939775, 102.59215686274348, 0.0)\">0.0</th><th style=\"background:rgba(230.2941176470614, 26.505882352939775, 102.59215686274348, 0.0)\">0.0</th><th style=\"background:rgba(230.2941176470614, 26.505882352939775, 102.59215686274348, 0.0)\">0.0</th></tr><tr><th>ization</th><th style=\"background:rgba(230.2941176470614, 26.505882352939775, 102.59215686274348, 0.0)\">0.001</th><th style=\"background:rgba(230.2941176470614, 26.505882352939775, 102.59215686274348, 0.0)\">0.001</th><th style=\"background:rgba(230.2941176470614, 26.505882352939775, 102.59215686274348, 0.0)\">0.001</th><th style=\"background:rgba(230.2941176470614, 26.505882352939775, 102.59215686274348, 0.0)\">0.0</th></tr><tr><th>▁ass</th><th style=\"background:rgba(230.2941176470614, 26.505882352939775, 102.59215686274348, 0.0)\">0.001</th><th style=\"background:rgba(230.2941176470614, 26.505882352939775, 102.59215686274348, 0.0)\">0.001</th><th style=\"background:rgba(230.2941176470614, 26.505882352939775, 102.59215686274348, 0.0)\">0.001</th><th style=\"background:rgba(230.2941176470614, 26.505882352939775, 102.59215686274348, 0.0)\">0.0</th></tr><tr><th>ay</th><th style=\"background:rgba(230.2941176470614, 26.505882352939775, 102.59215686274348, 0.0)\">0.001</th><th style=\"background:rgba(230.2941176470614, 26.505882352939775, 102.59215686274348, 0.0)\">0.002</th><th style=\"background:rgba(230.2941176470614, 26.505882352939775, 102.59215686274348, 0.0)\">0.001</th><th style=\"background:rgba(230.2941176470614, 26.505882352939775, 102.59215686274348, 0.0)\">0.001</th></tr><tr><th>.</th><th style=\"background:rgba(255.0, 13.0, 87.0, 0.5900970489205783)\">0.256</th><th style=\"background:rgba(255.0, 13.0, 87.0, 0.5979797979797981)\">0.256</th><th style=\"background:rgba(255.0, 13.0, 87.0, 0.7319865319865321)\">0.316</th><th style=\"background:rgba(255.0, 13.0, 87.0, 0.7319865319865321)\">0.316</th></tr><tr><th>▁Here</th><th style=\"background:rgba(255.0, 13.0, 87.0, 0.00677361853832443)\">0.006</th><th style=\"background:rgba(255.0, 13.0, 87.0, 0.00677361853832443)\">0.004</th><th style=\"background:rgba(230.2941176470614, 26.505882352939775, 102.59215686274348, 0.0)\">0.001</th><th style=\"background:rgba(230.2941176470614, 26.505882352939775, 102.59215686274348, 0.0)\">0.003</th></tr><tr><th>,</th><th style=\"background:rgba(230.2941176470614, 26.505882352939775, 102.59215686274348, 0.0)\">0.002</th><th style=\"background:rgba(230.2941176470614, 26.505882352939775, 102.59215686274348, 0.0)\">0.001</th><th style=\"background:rgba(230.2941176470614, 26.505882352939775, 102.59215686274348, 0.0)\">0.001</th><th style=\"background:rgba(230.2941176470614, 26.505882352939775, 102.59215686274348, 0.0)\">0.001</th></tr><tr><th>▁we</th><th style=\"background:rgba(230.2941176470614, 26.505882352939775, 102.59215686274348, 0.0)\">0.002</th><th style=\"background:rgba(230.2941176470614, 26.505882352939775, 102.59215686274348, 0.0)\">0.001</th><th style=\"background:rgba(230.2941176470614, 26.505882352939775, 102.59215686274348, 0.0)\">0.001</th><th style=\"background:rgba(230.2941176470614, 26.505882352939775, 102.59215686274348, 0.0)\">0.001</th></tr><tr><th>▁describe</th><th style=\"background:rgba(230.2941176470614, 26.505882352939775, 102.59215686274348, 0.0)\">0.003</th><th style=\"background:rgba(230.2941176470614, 26.505882352939775, 102.59215686274348, 0.0)\">0.001</th><th style=\"background:rgba(230.2941176470614, 26.505882352939775, 102.59215686274348, 0.0)\">0.001</th><th style=\"background:rgba(230.2941176470614, 26.505882352939775, 102.59215686274348, 0.0)\">0.001</th></tr><tr><th>▁a</th><th style=\"background:rgba(230.2941176470614, 26.505882352939775, 102.59215686274348, 0.0)\">0.001</th><th style=\"background:rgba(230.2941176470614, 26.505882352939775, 102.59215686274348, 0.0)\">0.001</th><th style=\"background:rgba(230.2941176470614, 26.505882352939775, 102.59215686274348, 0.0)\">0.001</th><th style=\"background:rgba(230.2941176470614, 26.505882352939775, 102.59215686274348, 0.0)\">0.001</th></tr><tr><th>▁collection</th><th style=\"background:rgba(230.2941176470614, 26.505882352939775, 102.59215686274348, 0.0)\">0.001</th><th style=\"background:rgba(230.2941176470614, 26.505882352939775, 102.59215686274348, 0.0)\">0.001</th><th style=\"background:rgba(230.2941176470614, 26.505882352939775, 102.59215686274348, 0.0)\">0.001</th><th style=\"background:rgba(230.2941176470614, 26.505882352939775, 102.59215686274348, 0.0)\">0.001</th></tr><tr><th>▁of</th><th style=\"background:rgba(230.2941176470614, 26.505882352939775, 102.59215686274348, 0.0)\">0.001</th><th style=\"background:rgba(230.2941176470614, 26.505882352939775, 102.59215686274348, 0.0)\">0.001</th><th style=\"background:rgba(230.2941176470614, 26.505882352939775, 102.59215686274348, 0.0)\">0.001</th><th style=\"background:rgba(230.2941176470614, 26.505882352939775, 102.59215686274348, 0.0)\">0.001</th></tr><tr><th>▁approaches</th><th style=\"background:rgba(230.2941176470614, 26.505882352939775, 102.59215686274348, 0.0)\">0.003</th><th style=\"background:rgba(230.2941176470614, 26.505882352939775, 102.59215686274348, 0.0)\">0.001</th><th style=\"background:rgba(230.2941176470614, 26.505882352939775, 102.59215686274348, 0.0)\">0.001</th><th style=\"background:rgba(230.2941176470614, 26.505882352939775, 102.59215686274348, 0.0)\">0.001</th></tr><tr><th>▁based</th><th style=\"background:rgba(230.2941176470614, 26.505882352939775, 102.59215686274348, 0.0)\">0.002</th><th style=\"background:rgba(230.2941176470614, 26.505882352939775, 102.59215686274348, 0.0)\">0.001</th><th style=\"background:rgba(230.2941176470614, 26.505882352939775, 102.59215686274348, 0.0)\">0.001</th><th style=\"background:rgba(230.2941176470614, 26.505882352939775, 102.59215686274348, 0.0)\">0.001</th></tr><tr><th>▁on</th><th style=\"background:rgba(230.2941176470614, 26.505882352939775, 102.59215686274348, 0.0)\">0.001</th><th style=\"background:rgba(230.2941176470614, 26.505882352939775, 102.59215686274348, 0.0)\">0.001</th><th style=\"background:rgba(230.2941176470614, 26.505882352939775, 102.59215686274348, 0.0)\">0.001</th><th style=\"background:rgba(230.2941176470614, 26.505882352939775, 102.59215686274348, 0.0)\">0.001</th></tr><tr><th>▁S</th><th style=\"background:rgba(230.2941176470614, 26.505882352939775, 102.59215686274348, 0.0)\">0.001</th><th style=\"background:rgba(230.2941176470614, 26.505882352939775, 102.59215686274348, 0.0)\">0.003</th><th style=\"background:rgba(230.2941176470614, 26.505882352939775, 102.59215686274348, 0.0)\">0.001</th><th style=\"background:rgba(230.2941176470614, 26.505882352939775, 102.59215686274348, 0.0)\">0.001</th></tr><tr><th>AR</th><th style=\"background:rgba(230.2941176470614, 26.505882352939775, 102.59215686274348, 0.0)\">0.001</th><th style=\"background:rgba(255.0, 13.0, 87.0, 0.00677361853832443)\">0.004</th><th style=\"background:rgba(230.2941176470614, 26.505882352939775, 102.59215686274348, 0.0)\">0.001</th><th style=\"background:rgba(230.2941176470614, 26.505882352939775, 102.59215686274348, 0.0)\">0.001</th></tr><tr><th>S</th><th style=\"background:rgba(230.2941176470614, 26.505882352939775, 102.59215686274348, 0.0)\">0.0</th><th style=\"background:rgba(230.2941176470614, 26.505882352939775, 102.59215686274348, 0.0)\">0.001</th><th style=\"background:rgba(230.2941176470614, 26.505882352939775, 102.59215686274348, 0.0)\">0.001</th><th style=\"background:rgba(230.2941176470614, 26.505882352939775, 102.59215686274348, 0.0)\">0.0</th></tr><tr><th>-</th><th style=\"background:rgba(230.2941176470614, 26.505882352939775, 102.59215686274348, 0.0)\">0.001</th><th style=\"background:rgba(230.2941176470614, 26.505882352939775, 102.59215686274348, 0.0)\">0.001</th><th style=\"background:rgba(230.2941176470614, 26.505882352939775, 102.59215686274348, 0.0)\">0.001</th><th style=\"background:rgba(230.2941176470614, 26.505882352939775, 102.59215686274348, 0.0)\">0.0</th></tr><tr><th>Co</th><th style=\"background:rgba(230.2941176470614, 26.505882352939775, 102.59215686274348, 0.0)\">0.002</th><th style=\"background:rgba(230.2941176470614, 26.505882352939775, 102.59215686274348, 0.0)\">0.002</th><th style=\"background:rgba(230.2941176470614, 26.505882352939775, 102.59215686274348, 0.0)\">0.001</th><th style=\"background:rgba(230.2941176470614, 26.505882352939775, 102.59215686274348, 0.0)\">0.001</th></tr><tr><th>V</th><th style=\"background:rgba(230.2941176470614, 26.505882352939775, 102.59215686274348, 0.0)\">0.0</th><th style=\"background:rgba(230.2941176470614, 26.505882352939775, 102.59215686274348, 0.0)\">0.001</th><th style=\"background:rgba(230.2941176470614, 26.505882352939775, 102.59215686274348, 0.0)\">0.001</th><th style=\"background:rgba(230.2941176470614, 26.505882352939775, 102.59215686274348, 0.0)\">0.0</th></tr><tr><th>-</th><th style=\"background:rgba(230.2941176470614, 26.505882352939775, 102.59215686274348, 0.0)\">0.0</th><th style=\"background:rgba(230.2941176470614, 26.505882352939775, 102.59215686274348, 0.0)\">0.001</th><th style=\"background:rgba(230.2941176470614, 26.505882352939775, 102.59215686274348, 0.0)\">0.001</th><th style=\"background:rgba(230.2941176470614, 26.505882352939775, 102.59215686274348, 0.0)\">0.0</th></tr><tr><th>2</th><th style=\"background:rgba(230.2941176470614, 26.505882352939775, 102.59215686274348, 0.0)\">0.001</th><th style=\"background:rgba(230.2941176470614, 26.505882352939775, 102.59215686274348, 0.0)\">0.001</th><th style=\"background:rgba(230.2941176470614, 26.505882352939775, 102.59215686274348, 0.0)\">0.001</th><th style=\"background:rgba(230.2941176470614, 26.505882352939775, 102.59215686274348, 0.0)\">0.0</th></tr><tr><th>▁sp</th><th style=\"background:rgba(230.2941176470614, 26.505882352939775, 102.59215686274348, 0.0)\">0.001</th><th style=\"background:rgba(230.2941176470614, 26.505882352939775, 102.59215686274348, 0.0)\">0.001</th><th style=\"background:rgba(230.2941176470614, 26.505882352939775, 102.59215686274348, 0.0)\">0.001</th><th style=\"background:rgba(230.2941176470614, 26.505882352939775, 102.59215686274348, 0.0)\">0.0</th></tr><tr><th>ike</th><th style=\"background:rgba(230.2941176470614, 26.505882352939775, 102.59215686274348, 0.0)\">0.001</th><th style=\"background:rgba(255.0, 13.0, 87.0, 0.00677361853832443)\">0.005</th><th style=\"background:rgba(230.2941176470614, 26.505882352939775, 102.59215686274348, 0.0)\">0.002</th><th style=\"background:rgba(230.2941176470614, 26.505882352939775, 102.59215686274348, 0.0)\">0.001</th></tr><tr><th>-</th><th style=\"background:rgba(230.2941176470614, 26.505882352939775, 102.59215686274348, 0.0)\">0.0</th><th style=\"background:rgba(230.2941176470614, 26.505882352939775, 102.59215686274348, 0.0)\">0.001</th><th style=\"background:rgba(230.2941176470614, 26.505882352939775, 102.59215686274348, 0.0)\">0.001</th><th style=\"background:rgba(230.2941176470614, 26.505882352939775, 102.59215686274348, 0.0)\">0.0</th></tr><tr><th>pse</th><th style=\"background:rgba(230.2941176470614, 26.505882352939775, 102.59215686274348, 0.0)\">0.0</th><th style=\"background:rgba(230.2941176470614, 26.505882352939775, 102.59215686274348, 0.0)\">0.0</th><th style=\"background:rgba(230.2941176470614, 26.505882352939775, 102.59215686274348, 0.0)\">0.001</th><th style=\"background:rgba(230.2941176470614, 26.505882352939775, 102.59215686274348, 0.0)\">0.0</th></tr><tr><th>ud</th><th style=\"background:rgba(230.2941176470614, 26.505882352939775, 102.59215686274348, 0.0)\">0.001</th><th style=\"background:rgba(230.2941176470614, 26.505882352939775, 102.59215686274348, 0.0)\">0.001</th><th style=\"background:rgba(230.2941176470614, 26.505882352939775, 102.59215686274348, 0.0)\">0.001</th><th style=\"background:rgba(230.2941176470614, 26.505882352939775, 102.59215686274348, 0.0)\">0.0</th></tr><tr><th>ot</th><th style=\"background:rgba(230.2941176470614, 26.505882352939775, 102.59215686274348, 0.0)\">0.001</th><th style=\"background:rgba(230.2941176470614, 26.505882352939775, 102.59215686274348, 0.0)\">0.001</th><th style=\"background:rgba(230.2941176470614, 26.505882352939775, 102.59215686274348, 0.0)\">0.001</th><th style=\"background:rgba(230.2941176470614, 26.505882352939775, 102.59215686274348, 0.0)\">0.0</th></tr><tr><th>yp</th><th style=\"background:rgba(230.2941176470614, 26.505882352939775, 102.59215686274348, 0.0)\">0.001</th><th style=\"background:rgba(230.2941176470614, 26.505882352939775, 102.59215686274348, 0.0)\">0.001</th><th style=\"background:rgba(230.2941176470614, 26.505882352939775, 102.59215686274348, 0.0)\">0.001</th><th style=\"background:rgba(230.2941176470614, 26.505882352939775, 102.59215686274348, 0.0)\">0.0</th></tr><tr><th>ed</th><th style=\"background:rgba(230.2941176470614, 26.505882352939775, 102.59215686274348, 0.0)\">0.001</th><th style=\"background:rgba(230.2941176470614, 26.505882352939775, 102.59215686274348, 0.0)\">0.001</th><th style=\"background:rgba(230.2941176470614, 26.505882352939775, 102.59215686274348, 0.0)\">0.001</th><th style=\"background:rgba(230.2941176470614, 26.505882352939775, 102.59215686274348, 0.0)\">0.001</th></tr><tr><th>,</th><th style=\"background:rgba(230.2941176470614, 26.505882352939775, 102.59215686274348, 0.0)\">0.001</th><th style=\"background:rgba(230.2941176470614, 26.505882352939775, 102.59215686274348, 0.0)\">0.001</th><th style=\"background:rgba(230.2941176470614, 26.505882352939775, 102.59215686274348, 0.0)\">0.001</th><th style=\"background:rgba(230.2941176470614, 26.505882352939775, 102.59215686274348, 0.0)\">0.001</th></tr><tr><th>▁single</th><th style=\"background:rgba(230.2941176470614, 26.505882352939775, 102.59215686274348, 0.0)\">0.001</th><th style=\"background:rgba(230.2941176470614, 26.505882352939775, 102.59215686274348, 0.0)\">0.001</th><th style=\"background:rgba(230.2941176470614, 26.505882352939775, 102.59215686274348, 0.0)\">0.0</th><th style=\"background:rgba(230.2941176470614, 26.505882352939775, 102.59215686274348, 0.0)\">0.0</th></tr><tr><th>-</th><th style=\"background:rgba(230.2941176470614, 26.505882352939775, 102.59215686274348, 0.0)\">0.001</th><th style=\"background:rgba(230.2941176470614, 26.505882352939775, 102.59215686274348, 0.0)\">0.001</th><th style=\"background:rgba(230.2941176470614, 26.505882352939775, 102.59215686274348, 0.0)\">0.001</th><th style=\"background:rgba(230.2941176470614, 26.505882352939775, 102.59215686274348, 0.0)\">0.0</th></tr><tr><th>cycle</th><th style=\"background:rgba(230.2941176470614, 26.505882352939775, 102.59215686274348, 0.0)\">0.001</th><th style=\"background:rgba(230.2941176470614, 26.505882352939775, 102.59215686274348, 0.0)\">0.001</th><th style=\"background:rgba(230.2941176470614, 26.505882352939775, 102.59215686274348, 0.0)\">0.001</th><th style=\"background:rgba(230.2941176470614, 26.505882352939775, 102.59215686274348, 0.0)\">0.0</th></tr><tr><th>,</th><th style=\"background:rgba(230.2941176470614, 26.505882352939775, 102.59215686274348, 0.0)\">0.001</th><th style=\"background:rgba(230.2941176470614, 26.505882352939775, 102.59215686274348, 0.0)\">0.001</th><th style=\"background:rgba(230.2941176470614, 26.505882352939775, 102.59215686274348, 0.0)\">0.001</th><th style=\"background:rgba(230.2941176470614, 26.505882352939775, 102.59215686274348, 0.0)\">0.001</th></tr><tr><th>▁rep</th><th style=\"background:rgba(230.2941176470614, 26.505882352939775, 102.59215686274348, 0.0)\">0.0</th><th style=\"background:rgba(230.2941176470614, 26.505882352939775, 102.59215686274348, 0.0)\">0.0</th><th style=\"background:rgba(230.2941176470614, 26.505882352939775, 102.59215686274348, 0.0)\">0.0</th><th style=\"background:rgba(230.2941176470614, 26.505882352939775, 102.59215686274348, 0.0)\">0.0</th></tr><tr><th>lication</th><th style=\"background:rgba(230.2941176470614, 26.505882352939775, 102.59215686274348, 0.0)\">0.0</th><th style=\"background:rgba(230.2941176470614, 26.505882352939775, 102.59215686274348, 0.0)\">0.0</th><th style=\"background:rgba(230.2941176470614, 26.505882352939775, 102.59215686274348, 0.0)\">0.0</th><th style=\"background:rgba(230.2941176470614, 26.505882352939775, 102.59215686274348, 0.0)\">0.0</th></tr><tr><th>-</th><th style=\"background:rgba(230.2941176470614, 26.505882352939775, 102.59215686274348, 0.0)\">0.0</th><th style=\"background:rgba(230.2941176470614, 26.505882352939775, 102.59215686274348, 0.0)\">0.0</th><th style=\"background:rgba(230.2941176470614, 26.505882352939775, 102.59215686274348, 0.0)\">0.0</th><th style=\"background:rgba(230.2941176470614, 26.505882352939775, 102.59215686274348, 0.0)\">0.0</th></tr><tr><th>def</th><th style=\"background:rgba(230.2941176470614, 26.505882352939775, 102.59215686274348, 0.0)\">0.0</th><th style=\"background:rgba(230.2941176470614, 26.505882352939775, 102.59215686274348, 0.0)\">0.0</th><th style=\"background:rgba(230.2941176470614, 26.505882352939775, 102.59215686274348, 0.0)\">0.0</th><th style=\"background:rgba(230.2941176470614, 26.505882352939775, 102.59215686274348, 0.0)\">0.0</th></tr><tr><th>ect</th><th style=\"background:rgba(230.2941176470614, 26.505882352939775, 102.59215686274348, 0.0)\">0.0</th><th style=\"background:rgba(230.2941176470614, 26.505882352939775, 102.59215686274348, 0.0)\">0.0</th><th style=\"background:rgba(230.2941176470614, 26.505882352939775, 102.59215686274348, 0.0)\">0.001</th><th style=\"background:rgba(230.2941176470614, 26.505882352939775, 102.59215686274348, 0.0)\">0.0</th></tr><tr><th>ive</th><th style=\"background:rgba(230.2941176470614, 26.505882352939775, 102.59215686274348, 0.0)\">0.001</th><th style=\"background:rgba(230.2941176470614, 26.505882352939775, 102.59215686274348, 0.0)\">0.001</th><th style=\"background:rgba(230.2941176470614, 26.505882352939775, 102.59215686274348, 0.0)\">0.001</th><th style=\"background:rgba(230.2941176470614, 26.505882352939775, 102.59215686274348, 0.0)\">0.0</th></tr><tr><th>▁human</th><th style=\"background:rgba(230.2941176470614, 26.505882352939775, 102.59215686274348, 0.0)\">0.001</th><th style=\"background:rgba(230.2941176470614, 26.505882352939775, 102.59215686274348, 0.0)\">0.001</th><th style=\"background:rgba(230.2941176470614, 26.505882352939775, 102.59215686274348, 0.0)\">0.001</th><th style=\"background:rgba(230.2941176470614, 26.505882352939775, 102.59215686274348, 0.0)\">0.0</th></tr><tr><th>▁imm</th><th style=\"background:rgba(230.2941176470614, 26.505882352939775, 102.59215686274348, 0.0)\">0.0</th><th style=\"background:rgba(230.2941176470614, 26.505882352939775, 102.59215686274348, 0.0)\">0.0</th><th style=\"background:rgba(230.2941176470614, 26.505882352939775, 102.59215686274348, 0.0)\">0.0</th><th style=\"background:rgba(230.2941176470614, 26.505882352939775, 102.59215686274348, 0.0)\">0.0</th></tr><tr><th>un</th><th style=\"background:rgba(230.2941176470614, 26.505882352939775, 102.59215686274348, 0.0)\">0.0</th><th style=\"background:rgba(230.2941176470614, 26.505882352939775, 102.59215686274348, 0.0)\">0.0</th><th style=\"background:rgba(230.2941176470614, 26.505882352939775, 102.59215686274348, 0.0)\">0.0</th><th style=\"background:rgba(230.2941176470614, 26.505882352939775, 102.59215686274348, 0.0)\">0.0</th></tr><tr><th>ode</th><th style=\"background:rgba(230.2941176470614, 26.505882352939775, 102.59215686274348, 0.0)\">0.0</th><th style=\"background:rgba(230.2941176470614, 26.505882352939775, 102.59215686274348, 0.0)\">0.0</th><th style=\"background:rgba(230.2941176470614, 26.505882352939775, 102.59215686274348, 0.0)\">0.0</th><th style=\"background:rgba(230.2941176470614, 26.505882352939775, 102.59215686274348, 0.0)\">0.0</th></tr><tr><th>fic</th><th style=\"background:rgba(230.2941176470614, 26.505882352939775, 102.59215686274348, 0.0)\">0.0</th><th style=\"background:rgba(230.2941176470614, 26.505882352939775, 102.59215686274348, 0.0)\">0.0</th><th style=\"background:rgba(230.2941176470614, 26.505882352939775, 102.59215686274348, 0.0)\">0.0</th><th style=\"background:rgba(230.2941176470614, 26.505882352939775, 102.59215686274348, 0.0)\">0.0</th></tr><tr><th>iency</th><th style=\"background:rgba(230.2941176470614, 26.505882352939775, 102.59215686274348, 0.0)\">0.0</th><th style=\"background:rgba(230.2941176470614, 26.505882352939775, 102.59215686274348, 0.0)\">0.0</th><th style=\"background:rgba(230.2941176470614, 26.505882352939775, 102.59215686274348, 0.0)\">0.0</th><th style=\"background:rgba(230.2941176470614, 26.505882352939775, 102.59215686274348, 0.0)\">0.0</th></tr><tr><th>▁virus</th><th style=\"background:rgba(230.2941176470614, 26.505882352939775, 102.59215686274348, 0.0)\">0.001</th><th style=\"background:rgba(230.2941176470614, 26.505882352939775, 102.59215686274348, 0.0)\">0.001</th><th style=\"background:rgba(230.2941176470614, 26.505882352939775, 102.59215686274348, 0.0)\">0.001</th><th style=\"background:rgba(230.2941176470614, 26.505882352939775, 102.59215686274348, 0.0)\">0.001</th></tr><tr><th>▁type</th><th style=\"background:rgba(230.2941176470614, 26.505882352939775, 102.59215686274348, 0.0)\">0.0</th><th style=\"background:rgba(230.2941176470614, 26.505882352939775, 102.59215686274348, 0.0)\">0.0</th><th style=\"background:rgba(230.2941176470614, 26.505882352939775, 102.59215686274348, 0.0)\">0.0</th><th style=\"background:rgba(230.2941176470614, 26.505882352939775, 102.59215686274348, 0.0)\">0.0</th></tr><tr><th>-</th><th style=\"background:rgba(230.2941176470614, 26.505882352939775, 102.59215686274348, 0.0)\">0.0</th><th style=\"background:rgba(230.2941176470614, 26.505882352939775, 102.59215686274348, 0.0)\">0.0</th><th style=\"background:rgba(230.2941176470614, 26.505882352939775, 102.59215686274348, 0.0)\">0.001</th><th style=\"background:rgba(230.2941176470614, 26.505882352939775, 102.59215686274348, 0.0)\">0.0</th></tr><tr><th>1</th><th style=\"background:rgba(230.2941176470614, 26.505882352939775, 102.59215686274348, 0.0)\">0.0</th><th style=\"background:rgba(230.2941176470614, 26.505882352939775, 102.59215686274348, 0.0)\">0.001</th><th style=\"background:rgba(230.2941176470614, 26.505882352939775, 102.59215686274348, 0.0)\">0.001</th><th style=\"background:rgba(230.2941176470614, 26.505882352939775, 102.59215686274348, 0.0)\">0.001</th></tr><tr><th>▁(</th><th style=\"background:rgba(230.2941176470614, 26.505882352939775, 102.59215686274348, 0.0)\">0.001</th><th style=\"background:rgba(230.2941176470614, 26.505882352939775, 102.59215686274348, 0.0)\">0.001</th><th style=\"background:rgba(230.2941176470614, 26.505882352939775, 102.59215686274348, 0.0)\">0.001</th><th style=\"background:rgba(230.2941176470614, 26.505882352939775, 102.59215686274348, 0.0)\">0.001</th></tr><tr><th>H</th><th style=\"background:rgba(230.2941176470614, 26.505882352939775, 102.59215686274348, 0.0)\">0.001</th><th style=\"background:rgba(230.2941176470614, 26.505882352939775, 102.59215686274348, 0.0)\">0.001</th><th style=\"background:rgba(230.2941176470614, 26.505882352939775, 102.59215686274348, 0.0)\">0.001</th><th style=\"background:rgba(230.2941176470614, 26.505882352939775, 102.59215686274348, 0.0)\">0.0</th></tr><tr><th>IV</th><th style=\"background:rgba(230.2941176470614, 26.505882352939775, 102.59215686274348, 0.0)\">0.0</th><th style=\"background:rgba(230.2941176470614, 26.505882352939775, 102.59215686274348, 0.0)\">0.001</th><th style=\"background:rgba(230.2941176470614, 26.505882352939775, 102.59215686274348, 0.0)\">0.001</th><th style=\"background:rgba(230.2941176470614, 26.505882352939775, 102.59215686274348, 0.0)\">0.0</th></tr><tr><th>-</th><th style=\"background:rgba(230.2941176470614, 26.505882352939775, 102.59215686274348, 0.0)\">0.0</th><th style=\"background:rgba(230.2941176470614, 26.505882352939775, 102.59215686274348, 0.0)\">0.001</th><th style=\"background:rgba(230.2941176470614, 26.505882352939775, 102.59215686274348, 0.0)\">0.0</th><th style=\"background:rgba(230.2941176470614, 26.505882352939775, 102.59215686274348, 0.0)\">0.0</th></tr><tr><th>1</th><th style=\"background:rgba(230.2941176470614, 26.505882352939775, 102.59215686274348, 0.0)\">0.0</th><th style=\"background:rgba(230.2941176470614, 26.505882352939775, 102.59215686274348, 0.0)\">0.001</th><th style=\"background:rgba(230.2941176470614, 26.505882352939775, 102.59215686274348, 0.0)\">0.001</th><th style=\"background:rgba(230.2941176470614, 26.505882352939775, 102.59215686274348, 0.0)\">0.001</th></tr><tr><th>)</th><th style=\"background:rgba(230.2941176470614, 26.505882352939775, 102.59215686274348, 0.0)\">0.001</th><th style=\"background:rgba(230.2941176470614, 26.505882352939775, 102.59215686274348, 0.0)\">0.001</th><th style=\"background:rgba(230.2941176470614, 26.505882352939775, 102.59215686274348, 0.0)\">0.001</th><th style=\"background:rgba(230.2941176470614, 26.505882352939775, 102.59215686274348, 0.0)\">0.0</th></tr><tr><th>▁and</th><th style=\"background:rgba(230.2941176470614, 26.505882352939775, 102.59215686274348, 0.0)\">0.001</th><th style=\"background:rgba(230.2941176470614, 26.505882352939775, 102.59215686274348, 0.0)\">0.002</th><th style=\"background:rgba(230.2941176470614, 26.505882352939775, 102.59215686274348, 0.0)\">0.001</th><th style=\"background:rgba(230.2941176470614, 26.505882352939775, 102.59215686274348, 0.0)\">0.001</th></tr><tr><th>▁ves</th><th style=\"background:rgba(230.2941176470614, 26.505882352939775, 102.59215686274348, 0.0)\">0.001</th><th style=\"background:rgba(230.2941176470614, 26.505882352939775, 102.59215686274348, 0.0)\">0.001</th><th style=\"background:rgba(230.2941176470614, 26.505882352939775, 102.59215686274348, 0.0)\">0.001</th><th style=\"background:rgba(230.2941176470614, 26.505882352939775, 102.59215686274348, 0.0)\">0.0</th></tr><tr><th>icular</th><th style=\"background:rgba(230.2941176470614, 26.505882352939775, 102.59215686274348, 0.0)\">0.0</th><th style=\"background:rgba(230.2941176470614, 26.505882352939775, 102.59215686274348, 0.0)\">0.0</th><th style=\"background:rgba(230.2941176470614, 26.505882352939775, 102.59215686274348, 0.0)\">0.0</th><th style=\"background:rgba(230.2941176470614, 26.505882352939775, 102.59215686274348, 0.0)\">0.0</th></tr><tr><th>▁st</th><th style=\"background:rgba(230.2941176470614, 26.505882352939775, 102.59215686274348, 0.0)\">0.0</th><th style=\"background:rgba(230.2941176470614, 26.505882352939775, 102.59215686274348, 0.0)\">0.0</th><th style=\"background:rgba(230.2941176470614, 26.505882352939775, 102.59215686274348, 0.0)\">0.0</th><th style=\"background:rgba(230.2941176470614, 26.505882352939775, 102.59215686274348, 0.0)\">0.0</th></tr><tr><th>om</th><th style=\"background:rgba(230.2941176470614, 26.505882352939775, 102.59215686274348, 0.0)\">0.0</th><th style=\"background:rgba(230.2941176470614, 26.505882352939775, 102.59215686274348, 0.0)\">0.0</th><th style=\"background:rgba(230.2941176470614, 26.505882352939775, 102.59215686274348, 0.0)\">0.0</th><th style=\"background:rgba(230.2941176470614, 26.505882352939775, 102.59215686274348, 0.0)\">0.0</th></tr><tr><th>at</th><th style=\"background:rgba(230.2941176470614, 26.505882352939775, 102.59215686274348, 0.0)\">0.0</th><th style=\"background:rgba(230.2941176470614, 26.505882352939775, 102.59215686274348, 0.0)\">0.0</th><th style=\"background:rgba(230.2941176470614, 26.505882352939775, 102.59215686274348, 0.0)\">0.0</th><th style=\"background:rgba(230.2941176470614, 26.505882352939775, 102.59215686274348, 0.0)\">0.0</th></tr><tr><th>itis</th><th style=\"background:rgba(230.2941176470614, 26.505882352939775, 102.59215686274348, 0.0)\">0.0</th><th style=\"background:rgba(230.2941176470614, 26.505882352939775, 102.59215686274348, 0.0)\">0.001</th><th style=\"background:rgba(230.2941176470614, 26.505882352939775, 102.59215686274348, 0.0)\">0.001</th><th style=\"background:rgba(230.2941176470614, 26.505882352939775, 102.59215686274348, 0.0)\">0.0</th></tr><tr><th>▁virus</th><th style=\"background:rgba(230.2941176470614, 26.505882352939775, 102.59215686274348, 0.0)\">0.0</th><th style=\"background:rgba(230.2941176470614, 26.505882352939775, 102.59215686274348, 0.0)\">0.001</th><th style=\"background:rgba(230.2941176470614, 26.505882352939775, 102.59215686274348, 0.0)\">0.001</th><th style=\"background:rgba(230.2941176470614, 26.505882352939775, 102.59215686274348, 0.0)\">0.0</th></tr><tr><th>▁(</th><th style=\"background:rgba(230.2941176470614, 26.505882352939775, 102.59215686274348, 0.0)\">0.001</th><th style=\"background:rgba(230.2941176470614, 26.505882352939775, 102.59215686274348, 0.0)\">0.001</th><th style=\"background:rgba(230.2941176470614, 26.505882352939775, 102.59215686274348, 0.0)\">0.001</th><th style=\"background:rgba(230.2941176470614, 26.505882352939775, 102.59215686274348, 0.0)\">0.001</th></tr><tr><th>V</th><th style=\"background:rgba(230.2941176470614, 26.505882352939775, 102.59215686274348, 0.0)\">0.0</th><th style=\"background:rgba(230.2941176470614, 26.505882352939775, 102.59215686274348, 0.0)\">0.0</th><th style=\"background:rgba(230.2941176470614, 26.505882352939775, 102.59215686274348, 0.0)\">0.0</th><th style=\"background:rgba(230.2941176470614, 26.505882352939775, 102.59215686274348, 0.0)\">0.0</th></tr><tr><th>SV</th><th style=\"background:rgba(230.2941176470614, 26.505882352939775, 102.59215686274348, 0.0)\">0.0</th><th style=\"background:rgba(230.2941176470614, 26.505882352939775, 102.59215686274348, 0.0)\">0.001</th><th style=\"background:rgba(230.2941176470614, 26.505882352939775, 102.59215686274348, 0.0)\">0.001</th><th style=\"background:rgba(230.2941176470614, 26.505882352939775, 102.59215686274348, 0.0)\">0.0</th></tr><tr><th>),</th><th style=\"background:rgba(230.2941176470614, 26.505882352939775, 102.59215686274348, 0.0)\">0.002</th><th style=\"background:rgba(230.2941176470614, 26.505882352939775, 102.59215686274348, 0.0)\">0.002</th><th style=\"background:rgba(230.2941176470614, 26.505882352939775, 102.59215686274348, 0.0)\">0.001</th><th style=\"background:rgba(230.2941176470614, 26.505882352939775, 102.59215686274348, 0.0)\">0.001</th></tr><tr><th>▁as</th><th style=\"background:rgba(230.2941176470614, 26.505882352939775, 102.59215686274348, 0.0)\">0.002</th><th style=\"background:rgba(230.2941176470614, 26.505882352939775, 102.59215686274348, 0.0)\">0.001</th><th style=\"background:rgba(230.2941176470614, 26.505882352939775, 102.59215686274348, 0.0)\">0.001</th><th style=\"background:rgba(230.2941176470614, 26.505882352939775, 102.59215686274348, 0.0)\">0.001</th></tr><tr><th>▁well</th><th style=\"background:rgba(230.2941176470614, 26.505882352939775, 102.59215686274348, 0.0)\">0.002</th><th style=\"background:rgba(230.2941176470614, 26.505882352939775, 102.59215686274348, 0.0)\">0.002</th><th style=\"background:rgba(230.2941176470614, 26.505882352939775, 102.59215686274348, 0.0)\">0.001</th><th style=\"background:rgba(230.2941176470614, 26.505882352939775, 102.59215686274348, 0.0)\">0.002</th></tr><tr><th>▁as</th><th style=\"background:rgba(230.2941176470614, 26.505882352939775, 102.59215686274348, 0.0)\">0.001</th><th style=\"background:rgba(230.2941176470614, 26.505882352939775, 102.59215686274348, 0.0)\">0.001</th><th style=\"background:rgba(230.2941176470614, 26.505882352939775, 102.59215686274348, 0.0)\">0.001</th><th style=\"background:rgba(230.2941176470614, 26.505882352939775, 102.59215686274348, 0.0)\">0.001</th></tr><tr><th>▁a</th><th style=\"background:rgba(230.2941176470614, 26.505882352939775, 102.59215686274348, 0.0)\">0.001</th><th style=\"background:rgba(230.2941176470614, 26.505882352939775, 102.59215686274348, 0.0)\">0.001</th><th style=\"background:rgba(230.2941176470614, 26.505882352939775, 102.59215686274348, 0.0)\">0.001</th><th style=\"background:rgba(230.2941176470614, 26.505882352939775, 102.59215686274348, 0.0)\">0.001</th></tr><tr><th>▁rep</th><th style=\"background:rgba(230.2941176470614, 26.505882352939775, 102.59215686274348, 0.0)\">0.001</th><th style=\"background:rgba(230.2941176470614, 26.505882352939775, 102.59215686274348, 0.0)\">0.001</th><th style=\"background:rgba(230.2941176470614, 26.505882352939775, 102.59215686274348, 0.0)\">0.0</th><th style=\"background:rgba(230.2941176470614, 26.505882352939775, 102.59215686274348, 0.0)\">0.0</th></tr><tr><th>lication</th><th style=\"background:rgba(230.2941176470614, 26.505882352939775, 102.59215686274348, 0.0)\">0.0</th><th style=\"background:rgba(230.2941176470614, 26.505882352939775, 102.59215686274348, 0.0)\">0.0</th><th style=\"background:rgba(230.2941176470614, 26.505882352939775, 102.59215686274348, 0.0)\">0.0</th><th style=\"background:rgba(230.2941176470614, 26.505882352939775, 102.59215686274348, 0.0)\">0.0</th></tr><tr><th>-</th><th style=\"background:rgba(230.2941176470614, 26.505882352939775, 102.59215686274348, 0.0)\">0.001</th><th style=\"background:rgba(230.2941176470614, 26.505882352939775, 102.59215686274348, 0.0)\">0.001</th><th style=\"background:rgba(230.2941176470614, 26.505882352939775, 102.59215686274348, 0.0)\">0.001</th><th style=\"background:rgba(230.2941176470614, 26.505882352939775, 102.59215686274348, 0.0)\">0.001</th></tr><tr><th>comp</th><th style=\"background:rgba(230.2941176470614, 26.505882352939775, 102.59215686274348, 0.0)\">0.0</th><th style=\"background:rgba(230.2941176470614, 26.505882352939775, 102.59215686274348, 0.0)\">0.0</th><th style=\"background:rgba(230.2941176470614, 26.505882352939775, 102.59215686274348, 0.0)\">0.0</th><th style=\"background:rgba(230.2941176470614, 26.505882352939775, 102.59215686274348, 0.0)\">0.0</th></tr><tr><th>et</th><th style=\"background:rgba(230.2941176470614, 26.505882352939775, 102.59215686274348, 0.0)\">0.0</th><th style=\"background:rgba(230.2941176470614, 26.505882352939775, 102.59215686274348, 0.0)\">0.0</th><th style=\"background:rgba(230.2941176470614, 26.505882352939775, 102.59215686274348, 0.0)\">0.0</th><th style=\"background:rgba(230.2941176470614, 26.505882352939775, 102.59215686274348, 0.0)\">0.0</th></tr><tr><th>ent</th><th style=\"background:rgba(230.2941176470614, 26.505882352939775, 102.59215686274348, 0.0)\">0.001</th><th style=\"background:rgba(230.2941176470614, 26.505882352939775, 102.59215686274348, 0.0)\">0.001</th><th style=\"background:rgba(230.2941176470614, 26.505882352939775, 102.59215686274348, 0.0)\">0.001</th><th style=\"background:rgba(230.2941176470614, 26.505882352939775, 102.59215686274348, 0.0)\">0.001</th></tr><tr><th>▁V</th><th style=\"background:rgba(230.2941176470614, 26.505882352939775, 102.59215686274348, 0.0)\">0.001</th><th style=\"background:rgba(230.2941176470614, 26.505882352939775, 102.59215686274348, 0.0)\">0.001</th><th style=\"background:rgba(230.2941176470614, 26.505882352939775, 102.59215686274348, 0.0)\">0.001</th><th style=\"background:rgba(230.2941176470614, 26.505882352939775, 102.59215686274348, 0.0)\">0.0</th></tr><tr><th>SV</th><th style=\"background:rgba(230.2941176470614, 26.505882352939775, 102.59215686274348, 0.0)\">0.001</th><th style=\"background:rgba(230.2941176470614, 26.505882352939775, 102.59215686274348, 0.0)\">0.001</th><th style=\"background:rgba(230.2941176470614, 26.505882352939775, 102.59215686274348, 0.0)\">0.001</th><th style=\"background:rgba(230.2941176470614, 26.505882352939775, 102.59215686274348, 0.0)\">0.0</th></tr><tr><th>/</th><th style=\"background:rgba(230.2941176470614, 26.505882352939775, 102.59215686274348, 0.0)\">0.001</th><th style=\"background:rgba(230.2941176470614, 26.505882352939775, 102.59215686274348, 0.0)\">0.001</th><th style=\"background:rgba(230.2941176470614, 26.505882352939775, 102.59215686274348, 0.0)\">0.001</th><th style=\"background:rgba(230.2941176470614, 26.505882352939775, 102.59215686274348, 0.0)\">0.001</th></tr><tr><th>S</th><th style=\"background:rgba(230.2941176470614, 26.505882352939775, 102.59215686274348, 0.0)\">0.0</th><th style=\"background:rgba(230.2941176470614, 26.505882352939775, 102.59215686274348, 0.0)\">0.001</th><th style=\"background:rgba(230.2941176470614, 26.505882352939775, 102.59215686274348, 0.0)\">0.001</th><th style=\"background:rgba(230.2941176470614, 26.505882352939775, 102.59215686274348, 0.0)\">0.0</th></tr><tr><th>AR</th><th style=\"background:rgba(230.2941176470614, 26.505882352939775, 102.59215686274348, 0.0)\">0.0</th><th style=\"background:rgba(230.2941176470614, 26.505882352939775, 102.59215686274348, 0.0)\">0.002</th><th style=\"background:rgba(230.2941176470614, 26.505882352939775, 102.59215686274348, 0.0)\">0.001</th><th style=\"background:rgba(230.2941176470614, 26.505882352939775, 102.59215686274348, 0.0)\">0.0</th></tr><tr><th>S</th><th style=\"background:rgba(230.2941176470614, 26.505882352939775, 102.59215686274348, 0.0)\">0.0</th><th style=\"background:rgba(230.2941176470614, 26.505882352939775, 102.59215686274348, 0.0)\">0.001</th><th style=\"background:rgba(230.2941176470614, 26.505882352939775, 102.59215686274348, 0.0)\">0.001</th><th style=\"background:rgba(230.2941176470614, 26.505882352939775, 102.59215686274348, 0.0)\">0.0</th></tr><tr><th>-</th><th style=\"background:rgba(230.2941176470614, 26.505882352939775, 102.59215686274348, 0.0)\">0.0</th><th style=\"background:rgba(230.2941176470614, 26.505882352939775, 102.59215686274348, 0.0)\">0.001</th><th style=\"background:rgba(230.2941176470614, 26.505882352939775, 102.59215686274348, 0.0)\">0.001</th><th style=\"background:rgba(230.2941176470614, 26.505882352939775, 102.59215686274348, 0.0)\">0.0</th></tr><tr><th>▁Co</th><th style=\"background:rgba(230.2941176470614, 26.505882352939775, 102.59215686274348, 0.0)\">0.001</th><th style=\"background:rgba(230.2941176470614, 26.505882352939775, 102.59215686274348, 0.0)\">0.001</th><th style=\"background:rgba(230.2941176470614, 26.505882352939775, 102.59215686274348, 0.0)\">0.001</th><th style=\"background:rgba(230.2941176470614, 26.505882352939775, 102.59215686274348, 0.0)\">0.001</th></tr><tr><th>V</th><th style=\"background:rgba(230.2941176470614, 26.505882352939775, 102.59215686274348, 0.0)\">0.0</th><th style=\"background:rgba(230.2941176470614, 26.505882352939775, 102.59215686274348, 0.0)\">0.001</th><th style=\"background:rgba(230.2941176470614, 26.505882352939775, 102.59215686274348, 0.0)\">0.0</th><th style=\"background:rgba(230.2941176470614, 26.505882352939775, 102.59215686274348, 0.0)\">0.0</th></tr><tr><th>-</th><th style=\"background:rgba(230.2941176470614, 26.505882352939775, 102.59215686274348, 0.0)\">0.0</th><th style=\"background:rgba(230.2941176470614, 26.505882352939775, 102.59215686274348, 0.0)\">0.001</th><th style=\"background:rgba(230.2941176470614, 26.505882352939775, 102.59215686274348, 0.0)\">0.001</th><th style=\"background:rgba(230.2941176470614, 26.505882352939775, 102.59215686274348, 0.0)\">0.0</th></tr><tr><th>2</th><th style=\"background:rgba(230.2941176470614, 26.505882352939775, 102.59215686274348, 0.0)\">0.001</th><th style=\"background:rgba(230.2941176470614, 26.505882352939775, 102.59215686274348, 0.0)\">0.001</th><th style=\"background:rgba(230.2941176470614, 26.505882352939775, 102.59215686274348, 0.0)\">0.001</th><th style=\"background:rgba(230.2941176470614, 26.505882352939775, 102.59215686274348, 0.0)\">0.0</th></tr><tr><th>▁ch</th><th style=\"background:rgba(230.2941176470614, 26.505882352939775, 102.59215686274348, 0.0)\">0.001</th><th style=\"background:rgba(230.2941176470614, 26.505882352939775, 102.59215686274348, 0.0)\">0.001</th><th style=\"background:rgba(230.2941176470614, 26.505882352939775, 102.59215686274348, 0.0)\">0.0</th><th style=\"background:rgba(230.2941176470614, 26.505882352939775, 102.59215686274348, 0.0)\">0.0</th></tr><tr><th>imer</th><th style=\"background:rgba(230.2941176470614, 26.505882352939775, 102.59215686274348, 0.0)\">0.001</th><th style=\"background:rgba(230.2941176470614, 26.505882352939775, 102.59215686274348, 0.0)\">0.001</th><th style=\"background:rgba(230.2941176470614, 26.505882352939775, 102.59215686274348, 0.0)\">0.001</th><th style=\"background:rgba(230.2941176470614, 26.505882352939775, 102.59215686274348, 0.0)\">0.0</th></tr><tr><th>ic</th><th style=\"background:rgba(230.2941176470614, 26.505882352939775, 102.59215686274348, 0.0)\">0.001</th><th style=\"background:rgba(230.2941176470614, 26.505882352939775, 102.59215686274348, 0.0)\">0.001</th><th style=\"background:rgba(230.2941176470614, 26.505882352939775, 102.59215686274348, 0.0)\">0.001</th><th style=\"background:rgba(230.2941176470614, 26.505882352939775, 102.59215686274348, 0.0)\">0.0</th></tr><tr><th>▁virus</th><th style=\"background:rgba(230.2941176470614, 26.505882352939775, 102.59215686274348, 0.0)\">0.001</th><th style=\"background:rgba(230.2941176470614, 26.505882352939775, 102.59215686274348, 0.0)\">0.002</th><th style=\"background:rgba(230.2941176470614, 26.505882352939775, 102.59215686274348, 0.0)\">0.001</th><th style=\"background:rgba(230.2941176470614, 26.505882352939775, 102.59215686274348, 0.0)\">0.001</th></tr><tr><th>..</th><th style=\"background:rgba(255.0, 13.0, 87.0, 0.014656367597544035)\">0.009</th><th style=\"background:rgba(255.0, 13.0, 87.0, 0.014656367597544035)\">0.007</th><th style=\"background:rgba(230.2941176470614, 26.505882352939775, 102.59215686274348, 0.0)\">0.003</th><th style=\"background:rgba(255.0, 13.0, 87.0, 0.00677361853832443)\">0.004</th></tr><tr><th>▁Cla</th><th style=\"background:rgba(255.0, 13.0, 87.0, 0.00677361853832443)\">0.005</th><th style=\"background:rgba(230.2941176470614, 26.505882352939775, 102.59215686274348, 0.0)\">0.003</th><th style=\"background:rgba(230.2941176470614, 26.505882352939775, 102.59215686274348, 0.0)\">0.002</th><th style=\"background:rgba(255.0, 13.0, 87.0, 0.00677361853832443)\">0.003</th></tr><tr><th>ims</th><th style=\"background:rgba(255.0, 13.0, 87.0, 0.014656367597544035)\">0.009</th><th style=\"background:rgba(255.0, 13.0, 87.0, 0.00677361853832443)\">0.005</th><th style=\"background:rgba(255.0, 13.0, 87.0, 0.00677361853832443)\">0.003</th><th style=\"background:rgba(255.0, 13.0, 87.0, 0.00677361853832443)\">0.006</th></tr><tr><th>:</th><th style=\"background:rgba(255.0, 13.0, 87.0, 0.03830461477520289)\">0.017</th><th style=\"background:rgba(255.0, 13.0, 87.0, 0.00677361853832443)\">0.006</th><th style=\"background:rgba(255.0, 13.0, 87.0, 0.00677361853832443)\">0.004</th><th style=\"background:rgba(255.0, 13.0, 87.0, 0.00677361853832443)\">0.006</th></tr><tr><th>▁Me</th><th style=\"background:rgba(255.0, 13.0, 87.0, 0.00677361853832443)\">0.005</th><th style=\"background:rgba(230.2941176470614, 26.505882352939775, 102.59215686274348, 0.0)\">0.002</th><th style=\"background:rgba(230.2941176470614, 26.505882352939775, 102.59215686274348, 0.0)\">0.001</th><th style=\"background:rgba(230.2941176470614, 26.505882352939775, 102.59215686274348, 0.0)\">0.002</th></tr><tr><th>as</th><th style=\"background:rgba(230.2941176470614, 26.505882352939775, 102.59215686274348, 0.0)\">0.003</th><th style=\"background:rgba(230.2941176470614, 26.505882352939775, 102.59215686274348, 0.0)\">0.002</th><th style=\"background:rgba(230.2941176470614, 26.505882352939775, 102.59215686274348, 0.0)\">0.001</th><th style=\"background:rgba(230.2941176470614, 26.505882352939775, 102.59215686274348, 0.0)\">0.001</th></tr><tr><th>uring</th><th style=\"background:rgba(255.0, 13.0, 87.0, 0.014656367597544035)\">0.008</th><th style=\"background:rgba(255.0, 13.0, 87.0, 0.00677361853832443)\">0.005</th><th style=\"background:rgba(230.2941176470614, 26.505882352939775, 102.59215686274348, 0.0)\">0.002</th><th style=\"background:rgba(230.2941176470614, 26.505882352939775, 102.59215686274348, 0.0)\">0.002</th></tr><tr><th>▁ch</th><th style=\"background:rgba(230.2941176470614, 26.505882352939775, 102.59215686274348, 0.0)\">0.002</th><th style=\"background:rgba(230.2941176470614, 26.505882352939775, 102.59215686274348, 0.0)\">0.002</th><th style=\"background:rgba(230.2941176470614, 26.505882352939775, 102.59215686274348, 0.0)\">0.001</th><th style=\"background:rgba(230.2941176470614, 26.505882352939775, 102.59215686274348, 0.0)\">0.001</th></tr><tr><th>s</th><th style=\"background:rgba(230.2941176470614, 26.505882352939775, 102.59215686274348, 0.0)\">0.003</th><th style=\"background:rgba(255.0, 13.0, 87.0, 0.00677361853832443)\">0.005</th><th style=\"background:rgba(230.2941176470614, 26.505882352939775, 102.59215686274348, 0.0)\">0.002</th><th style=\"background:rgba(230.2941176470614, 26.505882352939775, 102.59215686274348, 0.0)\">0.002</th></tr><tr><th>-</th><th style=\"background:rgba(230.2941176470614, 26.505882352939775, 102.59215686274348, 0.0)\">0.002</th><th style=\"background:rgba(230.2941176470614, 26.505882352939775, 102.59215686274348, 0.0)\">0.002</th><th style=\"background:rgba(230.2941176470614, 26.505882352939775, 102.59215686274348, 0.0)\">0.001</th><th style=\"background:rgba(230.2941176470614, 26.505882352939775, 102.59215686274348, 0.0)\">0.001</th></tr><tr><th>cov</th><th style=\"background:rgba(230.2941176470614, 26.505882352939775, 102.59215686274348, 0.0)\">0.001</th><th style=\"background:rgba(230.2941176470614, 26.505882352939775, 102.59215686274348, 0.0)\">0.002</th><th style=\"background:rgba(230.2941176470614, 26.505882352939775, 102.59215686274348, 0.0)\">0.002</th><th style=\"background:rgba(230.2941176470614, 26.505882352939775, 102.59215686274348, 0.0)\">0.001</th></tr><tr><th>-</th><th style=\"background:rgba(230.2941176470614, 26.505882352939775, 102.59215686274348, 0.0)\">0.001</th><th style=\"background:rgba(230.2941176470614, 26.505882352939775, 102.59215686274348, 0.0)\">0.001</th><th style=\"background:rgba(230.2941176470614, 26.505882352939775, 102.59215686274348, 0.0)\">0.001</th><th style=\"background:rgba(230.2941176470614, 26.505882352939775, 102.59215686274348, 0.0)\">0.001</th></tr><tr><th>2</th><th style=\"background:rgba(230.2941176470614, 26.505882352939775, 102.59215686274348, 0.0)\">0.002</th><th style=\"background:rgba(230.2941176470614, 26.505882352939775, 102.59215686274348, 0.0)\">0.003</th><th style=\"background:rgba(230.2941176470614, 26.505882352939775, 102.59215686274348, 0.0)\">0.002</th><th style=\"background:rgba(230.2941176470614, 26.505882352939775, 102.59215686274348, 0.0)\">0.001</th></tr><tr><th>▁neutral</th><th style=\"background:rgba(230.2941176470614, 26.505882352939775, 102.59215686274348, 0.0)\">0.003</th><th style=\"background:rgba(230.2941176470614, 26.505882352939775, 102.59215686274348, 0.0)\">0.003</th><th style=\"background:rgba(230.2941176470614, 26.505882352939775, 102.59215686274348, 0.0)\">0.001</th><th style=\"background:rgba(230.2941176470614, 26.505882352939775, 102.59215686274348, 0.0)\">0.001</th></tr><tr><th>izing</th><th style=\"background:rgba(230.2941176470614, 26.505882352939775, 102.59215686274348, 0.0)\">0.002</th><th style=\"background:rgba(255.0, 13.0, 87.0, 0.00677361853832443)\">0.004</th><th style=\"background:rgba(230.2941176470614, 26.505882352939775, 102.59215686274348, 0.0)\">0.002</th><th style=\"background:rgba(230.2941176470614, 26.505882352939775, 102.59215686274348, 0.0)\">0.001</th></tr><tr><th>▁ant</th><th style=\"background:rgba(230.2941176470614, 26.505882352939775, 102.59215686274348, 0.0)\">0.001</th><th style=\"background:rgba(230.2941176470614, 26.505882352939775, 102.59215686274348, 0.0)\">0.001</th><th style=\"background:rgba(230.2941176470614, 26.505882352939775, 102.59215686274348, 0.0)\">0.001</th><th style=\"background:rgba(230.2941176470614, 26.505882352939775, 102.59215686274348, 0.0)\">0.001</th></tr><tr><th>ib</th><th style=\"background:rgba(230.2941176470614, 26.505882352939775, 102.59215686274348, 0.0)\">0.003</th><th style=\"background:rgba(255.0, 13.0, 87.0, 0.00677361853832443)\">0.004</th><th style=\"background:rgba(230.2941176470614, 26.505882352939775, 102.59215686274348, 0.0)\">0.002</th><th style=\"background:rgba(230.2941176470614, 26.505882352939775, 102.59215686274348, 0.0)\">0.001</th></tr><tr><th>ody</th><th style=\"background:rgba(230.2941176470614, 26.505882352939775, 102.59215686274348, 0.0)\">0.003</th><th style=\"background:rgba(255.0, 13.0, 87.0, 0.00677361853832443)\">0.004</th><th style=\"background:rgba(230.2941176470614, 26.505882352939775, 102.59215686274348, 0.0)\">0.001</th><th style=\"background:rgba(230.2941176470614, 26.505882352939775, 102.59215686274348, 0.0)\">0.001</th></tr><tr><th>▁activity</th><th style=\"background:rgba(255.0, 13.0, 87.0, 0.00677361853832443)\">0.004</th><th style=\"background:rgba(255.0, 13.0, 87.0, 0.00677361853832443)\">0.004</th><th style=\"background:rgba(230.2941176470614, 26.505882352939775, 102.59215686274348, 0.0)\">0.002</th><th style=\"background:rgba(230.2941176470614, 26.505882352939775, 102.59215686274348, 0.0)\">0.001</th></tr><tr><th>▁using</th><th style=\"background:rgba(255.0, 13.0, 87.0, 0.00677361853832443)\">0.005</th><th style=\"background:rgba(255.0, 13.0, 87.0, 0.00677361853832443)\">0.004</th><th style=\"background:rgba(230.2941176470614, 26.505882352939775, 102.59215686274348, 0.0)\">0.001</th><th style=\"background:rgba(230.2941176470614, 26.505882352939775, 102.59215686274348, 0.0)\">0.001</th></tr><tr><th>▁pseud</th><th style=\"background:rgba(255.0, 13.0, 87.0, 0.014656367597544035)\">0.01</th><th style=\"background:rgba(230.2941176470614, 26.505882352939775, 102.59215686274348, 0.0)\">0.003</th><th style=\"background:rgba(230.2941176470614, 26.505882352939775, 102.59215686274348, 0.0)\">0.002</th><th style=\"background:rgba(230.2941176470614, 26.505882352939775, 102.59215686274348, 0.0)\">0.001</th></tr><tr><th>ot</th><th style=\"background:rgba(230.2941176470614, 26.505882352939775, 102.59215686274348, 0.0)\">0.001</th><th style=\"background:rgba(230.2941176470614, 26.505882352939775, 102.59215686274348, 0.0)\">0.001</th><th style=\"background:rgba(230.2941176470614, 26.505882352939775, 102.59215686274348, 0.0)\">0.001</th><th style=\"background:rgba(230.2941176470614, 26.505882352939775, 102.59215686274348, 0.0)\">0.001</th></tr><tr><th>yp</th><th style=\"background:rgba(230.2941176470614, 26.505882352939775, 102.59215686274348, 0.0)\">0.002</th><th style=\"background:rgba(230.2941176470614, 26.505882352939775, 102.59215686274348, 0.0)\">0.002</th><th style=\"background:rgba(230.2941176470614, 26.505882352939775, 102.59215686274348, 0.0)\">0.002</th><th style=\"background:rgba(230.2941176470614, 26.505882352939775, 102.59215686274348, 0.0)\">0.001</th></tr><tr><th>ed</th><th style=\"background:rgba(230.2941176470614, 26.505882352939775, 102.59215686274348, 0.0)\">0.002</th><th style=\"background:rgba(230.2941176470614, 26.505882352939775, 102.59215686274348, 0.0)\">0.002</th><th style=\"background:rgba(230.2941176470614, 26.505882352939775, 102.59215686274348, 0.0)\">0.001</th><th style=\"background:rgba(230.2941176470614, 26.505882352939775, 102.59215686274348, 0.0)\">0.001</th></tr><tr><th>▁and</th><th style=\"background:rgba(230.2941176470614, 26.505882352939775, 102.59215686274348, 0.0)\">0.003</th><th style=\"background:rgba(230.2941176470614, 26.505882352939775, 102.59215686274348, 0.0)\">0.003</th><th style=\"background:rgba(230.2941176470614, 26.505882352939775, 102.59215686274348, 0.0)\">0.002</th><th style=\"background:rgba(230.2941176470614, 26.505882352939775, 102.59215686274348, 0.0)\">0.001</th></tr><tr><th>▁ch</th><th style=\"background:rgba(230.2941176470614, 26.505882352939775, 102.59215686274348, 0.0)\">0.001</th><th style=\"background:rgba(230.2941176470614, 26.505882352939775, 102.59215686274348, 0.0)\">0.001</th><th style=\"background:rgba(230.2941176470614, 26.505882352939775, 102.59215686274348, 0.0)\">0.001</th><th style=\"background:rgba(230.2941176470614, 26.505882352939775, 102.59215686274348, 0.0)\">0.001</th></tr><tr><th>imer</th><th style=\"background:rgba(230.2941176470614, 26.505882352939775, 102.59215686274348, 0.0)\">0.002</th><th style=\"background:rgba(230.2941176470614, 26.505882352939775, 102.59215686274348, 0.0)\">0.001</th><th style=\"background:rgba(230.2941176470614, 26.505882352939775, 102.59215686274348, 0.0)\">0.001</th><th style=\"background:rgba(230.2941176470614, 26.505882352939775, 102.59215686274348, 0.0)\">0.001</th></tr><tr><th>ic</th><th style=\"background:rgba(230.2941176470614, 26.505882352939775, 102.59215686274348, 0.0)\">0.002</th><th style=\"background:rgba(230.2941176470614, 26.505882352939775, 102.59215686274348, 0.0)\">0.003</th><th style=\"background:rgba(230.2941176470614, 26.505882352939775, 102.59215686274348, 0.0)\">0.001</th><th style=\"background:rgba(230.2941176470614, 26.505882352939775, 102.59215686274348, 0.0)\">0.001</th></tr><tr><th>▁vir</th><th style=\"background:rgba(230.2941176470614, 26.505882352939775, 102.59215686274348, 0.0)\">0.003</th><th style=\"background:rgba(230.2941176470614, 26.505882352939775, 102.59215686274348, 0.0)\">0.003</th><th style=\"background:rgba(230.2941176470614, 26.505882352939775, 102.59215686274348, 0.0)\">0.002</th><th style=\"background:rgba(230.2941176470614, 26.505882352939775, 102.59215686274348, 0.0)\">0.001</th></tr><tr><th>uses</th><th style=\"background:rgba(255.0, 13.0, 87.0, 0.014656367597544035)\">0.007</th><th style=\"background:rgba(255.0, 13.0, 87.0, 0.014656367597544035)\">0.008</th><th style=\"background:rgba(230.2941176470614, 26.505882352939775, 102.59215686274348, 0.0)\">0.002</th><th style=\"background:rgba(230.2941176470614, 26.505882352939775, 102.59215686274348, 0.0)\">0.002</th></tr><tr><th>.</th><th style=\"background:rgba(255.0, 13.0, 87.0, 0.05407011289364243)\">0.025</th><th style=\"background:rgba(255.0, 13.0, 87.0, 0.03830461477520289)\">0.017</th><th style=\"background:rgba(255.0, 13.0, 87.0, 0.014656367597544035)\">0.008</th><th style=\"background:rgba(255.0, 13.0, 87.0, 0.014656367597544035)\">0.01</th></tr><tr><th>▁Pred</th><th style=\"background:rgba(255.0, 13.0, 87.0, 0.014656367597544035)\">0.01</th><th style=\"background:rgba(255.0, 13.0, 87.0, 0.00677361853832443)\">0.006</th><th style=\"background:rgba(255.0, 13.0, 87.0, 0.00677361853832443)\">0.005</th><th style=\"background:rgba(255.0, 13.0, 87.0, 0.00677361853832443)\">0.006</th></tr><tr><th>iction</th><th style=\"background:rgba(255.0, 13.0, 87.0, 0.06195286195286207)\">0.027</th><th style=\"background:rgba(255.0, 13.0, 87.0, 0.030421865715983164)\">0.015</th><th style=\"background:rgba(255.0, 13.0, 87.0, 0.014656367597544035)\">0.01</th><th style=\"background:rgba(255.0, 13.0, 87.0, 0.02253911665676371)\">0.012</th></tr><tr><th>:</th><th style=\"background:rgba(255.0, 13.0, 87.0, 0.08560110913052081)\">0.04</th><th style=\"background:rgba(255.0, 13.0, 87.0, 0.09348385818974037)\">0.043</th><th style=\"background:rgba(255.0, 13.0, 87.0, 0.03830461477520289)\">0.018</th><th style=\"background:rgba(255.0, 13.0, 87.0, 0.04618736383442265)\">0.022</th></tr><tr><th>▁S</th><th style=\"background:rgba(0.0, 0.0, 0.0, 0.0)\"></th><th style=\"background:rgba(255.0, 13.0, 87.0, 0.05407011289364243)\">0.027</th><th style=\"background:rgba(255.0, 13.0, 87.0, 0.02253911665676371)\">0.013</th><th style=\"background:rgba(255.0, 13.0, 87.0, 0.014656367597544035)\">0.008</th></tr><tr><th>UP</th><th style=\"background:rgba(0.0, 0.0, 0.0, 0.0)\"></th><th style=\"background:rgba(0.0, 0.0, 0.0, 0.0)\"></th><th style=\"background:rgba(255.0, 13.0, 87.0, 0.06983561101208159)\">0.034</th><th style=\"background:rgba(255.0, 13.0, 87.0, 0.030421865715983164)\">0.015</th></tr><tr><th>PORT</th><th style=\"background:rgba(0.0, 0.0, 0.0, 0.0)\"></th><th style=\"background:rgba(0.0, 0.0, 0.0, 0.0)\"></th><th style=\"background:rgba(0.0, 0.0, 0.0, 0.0)\"></th><th style=\"background:rgba(255.0, 13.0, 87.0, 0.08560110913052081)\">0.039</th></tr><tr><th>ED</th><th style=\"background:rgba(0.0, 0.0, 0.0, 0.0)\"></th><th style=\"background:rgba(0.0, 0.0, 0.0, 0.0)\"></th><th style=\"background:rgba(0.0, 0.0, 0.0, 0.0)\"></th><th style=\"background:rgba(0.0, 0.0, 0.0, 0.0)\"></th></tr></table>\n",
              "</div>\n",
              "\n",
              "        </div>\n",
              "    </div>\n",
              "</div>\n",
              "</html>\n"
            ]
          },
          "metadata": {}
        }
      ]
    },
    {
      "cell_type": "markdown",
      "source": [
        "# Rationalization\n"
      ],
      "metadata": {
        "id": "HBAWpINGWiDx"
      }
    },
    {
      "cell_type": "code",
      "source": [
        "prompt_template=f'''\n",
        "claim: Measuring aces-cov-2 neutralizing antibody activity using pseudotyped and chimeric viruses\n",
        "evidence: As the United Kingdom began administering people with the Pfizer-BioNTech vaccine, four people who got Pfizer's coronavirus vaccine in the firm's trial developed Bell's palsy, a form of temporary facial paralysis, according to US regulators' report on the shot.\n",
        "Based on evidence, the prediction of the claim is refuted. Show me the reasoning.\n",
        "'''\n",
        "\n",
        "print(\"\\n\\n*** Generate:\")\n",
        "\n",
        "input_ids = tokenizer(prompt_template, return_tensors='pt').input_ids.cuda()\n",
        "output = model.generate(inputs=input_ids, temperature=0.7, do_sample=True, top_p=0.95, top_k=40, max_new_tokens=512)\n",
        "print(tokenizer.decode(output[0]))"
      ],
      "metadata": {
        "colab": {
          "base_uri": "https://localhost:8080/"
        },
        "id": "9j8nqg7fT-fc",
        "outputId": "3b19d92e-5028-423a-c68d-acf01ecf2b71"
      },
      "execution_count": 49,
      "outputs": [
        {
          "output_type": "stream",
          "name": "stdout",
          "text": [
            "\n",
            "\n",
            "*** Generate:\n"
          ]
        },
        {
          "output_type": "stream",
          "name": "stderr",
          "text": [
            "/usr/local/lib/python3.10/dist-packages/transformers/generation/utils.py:1421: UserWarning: You have modified the pretrained model configuration to control generation. This is a deprecated strategy to control generation and will be removed soon, in a future version. Please use and modify the model generation configuration (see https://huggingface.co/docs/transformers/generation_strategies#default-text-generation-configuration )\n",
            "  warnings.warn(\n"
          ]
        },
        {
          "output_type": "stream",
          "name": "stdout",
          "text": [
            "<s> \n",
            "claim: Measuring aces-cov-2 neutralizing antibody activity using pseudotyped and chimeric viruses\n",
            "evidence: As the United Kingdom began administering people with the Pfizer-BioNTech vaccine, four people who got Pfizer's coronavirus vaccine in the firm's trial developed Bell's palsy, a form of temporary facial paralysis, according to US regulators' report on the shot.\n",
            "Based on evidence, the prediction of the claim is refuted. Show me the reasoning.\n",
            "Reasoning: The evidence provided is a report from US regulators on the Pfizer-BioNTech vaccine, which does not provide any information about measuring aces-cov-2 neutralizing antibody activity using pseudotyped and chimeric viruses. The report only discusses the adverse events observed in the trial, including Bell's palsy in four participants. Therefore, the claim is refuted.</s>\n"
          ]
        }
      ]
    },
    {
      "cell_type": "code",
      "source": [
        "print(tokenizer.decode(output[0]).split(prompt_template))\n",
        "print(tokenizer.decode(output[0]).split(prompt_template)[1][:-4])"
      ],
      "metadata": {
        "colab": {
          "base_uri": "https://localhost:8080/"
        },
        "id": "Mmgy2w9BWDAk",
        "outputId": "b10d55ab-5b24-4757-8e1b-fbc103e5958b"
      },
      "execution_count": 53,
      "outputs": [
        {
          "output_type": "stream",
          "name": "stdout",
          "text": [
            "['<s> ', \"Reasoning: The evidence provided is a report from US regulators on the Pfizer-BioNTech vaccine, which does not provide any information about measuring aces-cov-2 neutralizing antibody activity using pseudotyped and chimeric viruses. The report only discusses the adverse events observed in the trial, including Bell's palsy in four participants. Therefore, the claim is refuted.</s>\"]\n",
            "Reasoning: The evidence provided is a report from US regulators on the Pfizer-BioNTech vaccine, which does not provide any information about measuring aces-cov-2 neutralizing antibody activity using pseudotyped and chimeric viruses. The report only discusses the adverse events observed in the trial, including Bell's palsy in four participants. Therefore, the claim is refuted.\n"
          ]
        }
      ]
    },
    {
      "cell_type": "markdown",
      "source": [
        "# Counterfactual Generation"
      ],
      "metadata": {
        "id": "mJjiku35WwYJ"
      }
    },
    {
      "cell_type": "code",
      "source": [
        "prompt_template=f'''\n",
        "claim: Measuring aces-cov-2 neutralizing antibody activity using pseudotyped and chimeric viruses\n",
        "evidence: As the United Kingdom began administering people with the Pfizer-BioNTech vaccine, four people who got Pfizer's coronavirus vaccine in the firm's trial developed Bell's palsy, a form of temporary facial paralysis, according to US regulators' report on the shot.\n",
        "Based on evidence, the prediction of the claim is refuted.\n",
        "Generate a counterfactual for claim only such that it will be predicted as supported based on evidence. Let's think step by step.\n",
        "'''\n",
        "\n",
        "print(\"\\n\\n*** Generate:\")\n",
        "\n",
        "input_ids = tokenizer(prompt_template, return_tensors='pt').input_ids.cuda()\n",
        "output = model.generate(inputs=input_ids, temperature=0.7, do_sample=True, top_p=0.95, top_k=40, max_new_tokens=512)\n",
        "print(tokenizer.decode(output[0]))"
      ],
      "metadata": {
        "colab": {
          "base_uri": "https://localhost:8080/"
        },
        "id": "U7zyXz98ZhDa",
        "outputId": "7b1d8e11-1618-4bfb-ba66-afe6243a3bf3"
      },
      "execution_count": 55,
      "outputs": [
        {
          "output_type": "stream",
          "name": "stdout",
          "text": [
            "\n",
            "\n",
            "*** Generate:\n",
            "<s> \n",
            "claim: Measuring aces-cov-2 neutralizing antibody activity using pseudotyped and chimeric viruses\n",
            "evidence: As the United Kingdom began administering people with the Pfizer-BioNTech vaccine, four people who got Pfizer's coronavirus vaccine in the firm's trial developed Bell's palsy, a form of temporary facial paralysis, according to US regulators' report on the shot.\n",
            "Based on evidence, the prediction of the claim is refuted. \n",
            "Generate a counterfactual for claim only such that it will be predicted as supported based on evidence. Let's think step by step.\n",
            "* Claim: Measuring aces-cov-2 neutralizing antibody activity using pseudotyped and chimeric viruses.\n",
            "* Evidence: The World Health Organization (WHO) has developed a standardized assay for measuring aces-cov-2 neutralizing antibody activity using pseudotyped and chimeric viruses.\n",
            "* Counterfactual: Measuring aces-cov-2 neutralizing antibody activity using pseudotyped and chimeric viruses does not provide accurate results.\n",
            "In this case, the evidence supports the claim, and the counterfactual is a refutation of the claim. Therefore, the prediction of the claim is supported based on evidence.</s>\n"
          ]
        }
      ]
    }
  ]
}